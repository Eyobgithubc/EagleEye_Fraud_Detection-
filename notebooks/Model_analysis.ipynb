{
 "cells": [
  {
   "cell_type": "code",
   "execution_count": 1,
   "metadata": {},
   "outputs": [],
   "source": [
    "import sys\n",
    "import os\n",
<<<<<<< HEAD
    "import pandas as pd\n",
    "import mlflow"
=======
    "import pandas as pd"
>>>>>>> Task-1
   ]
  },
  {
   "cell_type": "code",
   "execution_count": 2,
   "metadata": {},
   "outputs": [],
   "source": [
    "sys.path.append(os.path.abspath('../scripts'))"
   ]
  },
  {
   "cell_type": "code",
   "execution_count": 3,
   "metadata": {},
   "outputs": [
    {
     "data": {
      "text/html": [
       "<div>\n",
       "<style scoped>\n",
       "    .dataframe tbody tr th:only-of-type {\n",
       "        vertical-align: middle;\n",
       "    }\n",
       "\n",
       "    .dataframe tbody tr th {\n",
       "        vertical-align: top;\n",
       "    }\n",
       "\n",
       "    .dataframe thead th {\n",
       "        text-align: right;\n",
       "    }\n",
       "</style>\n",
       "<table border=\"1\" class=\"dataframe\">\n",
       "  <thead>\n",
       "    <tr style=\"text-align: right;\">\n",
       "      <th></th>\n",
       "      <th>user_id</th>\n",
       "      <th>signup_time</th>\n",
       "      <th>purchase_time</th>\n",
       "      <th>purchase_value</th>\n",
       "      <th>device_id</th>\n",
<<<<<<< HEAD
       "      <th>source</th>\n",
       "      <th>browser</th>\n",
       "      <th>sex</th>\n",
=======
>>>>>>> Task-1
       "      <th>age</th>\n",
       "      <th>ip_address</th>\n",
       "      <th>class</th>\n",
       "      <th>lower_bound_ip_address</th>\n",
       "      <th>upper_bound_ip_address</th>\n",
<<<<<<< HEAD
       "      <th>country</th>\n",
       "      <th>time_to_purchase</th>\n",
       "      <th>hour_of_day</th>\n",
       "      <th>day_of_week</th>\n",
       "      <th>transaction_count</th>\n",
       "      <th>transaction_velocity</th>\n",
=======
       "      <th>...</th>\n",
       "      <th>source_Ads</th>\n",
       "      <th>source_Direct</th>\n",
       "      <th>source_SEO</th>\n",
       "      <th>browser_Chrome</th>\n",
       "      <th>browser_FireFox</th>\n",
       "      <th>browser_IE</th>\n",
       "      <th>browser_Opera</th>\n",
       "      <th>browser_Safari</th>\n",
       "      <th>sex_F</th>\n",
       "      <th>sex_M</th>\n",
>>>>>>> Task-1
       "    </tr>\n",
       "  </thead>\n",
       "  <tbody>\n",
       "    <tr>\n",
       "      <th>0</th>\n",
       "      <td>138208</td>\n",
       "      <td>2015-06-10 07:02:20</td>\n",
       "      <td>2015-07-21 02:03:53</td>\n",
       "      <td>-0.924042</td>\n",
<<<<<<< HEAD
       "      <td>132509</td>\n",
       "      <td>1</td>\n",
       "      <td>2</td>\n",
       "      <td>1</td>\n",
=======
       "      <td>ZINIADFCLHYPG</td>\n",
>>>>>>> Task-1
       "      <td>0.564192</td>\n",
       "      <td>-2147483648</td>\n",
       "      <td>0</td>\n",
       "      <td>-2147483648</td>\n",
       "      <td>-2147483648</td>\n",
<<<<<<< HEAD
       "      <td>116</td>\n",
       "      <td>-0.450381</td>\n",
       "      <td>2</td>\n",
       "      <td>1</td>\n",
       "      <td>1</td>\n",
       "      <td>0.000006</td>\n",
=======
       "      <td>...</td>\n",
       "      <td>False</td>\n",
       "      <td>True</td>\n",
       "      <td>False</td>\n",
       "      <td>False</td>\n",
       "      <td>False</td>\n",
       "      <td>True</td>\n",
       "      <td>False</td>\n",
       "      <td>False</td>\n",
       "      <td>False</td>\n",
       "      <td>True</td>\n",
>>>>>>> Task-1
       "    </tr>\n",
       "    <tr>\n",
       "      <th>1</th>\n",
       "      <td>329438</td>\n",
       "      <td>2015-02-07 20:36:48</td>\n",
       "      <td>2015-02-28 21:43:52</td>\n",
       "      <td>-1.033250</td>\n",
<<<<<<< HEAD
       "      <td>87274</td>\n",
       "      <td>2</td>\n",
       "      <td>2</td>\n",
       "      <td>1</td>\n",
=======
       "      <td>QSHYBRYJBNKMU</td>\n",
>>>>>>> Task-1
       "      <td>-1.060654</td>\n",
       "      <td>-2147483648</td>\n",
       "      <td>0</td>\n",
       "      <td>-2147483648</td>\n",
       "      <td>-2147483648</td>\n",
<<<<<<< HEAD
       "      <td>116</td>\n",
       "      <td>-0.996166</td>\n",
       "      <td>21</td>\n",
       "      <td>5</td>\n",
       "      <td>1</td>\n",
       "      <td>0.000010</td>\n",
=======
       "      <td>...</td>\n",
       "      <td>False</td>\n",
       "      <td>False</td>\n",
       "      <td>True</td>\n",
       "      <td>False</td>\n",
       "      <td>False</td>\n",
       "      <td>True</td>\n",
       "      <td>False</td>\n",
       "      <td>False</td>\n",
       "      <td>False</td>\n",
       "      <td>True</td>\n",
>>>>>>> Task-1
       "    </tr>\n",
       "    <tr>\n",
       "      <th>2</th>\n",
       "      <td>319411</td>\n",
       "      <td>2015-01-08 11:11:50</td>\n",
       "      <td>2015-03-06 23:37:00</td>\n",
       "      <td>-0.050376</td>\n",
<<<<<<< HEAD
       "      <td>12390</td>\n",
       "      <td>2</td>\n",
       "      <td>2</td>\n",
       "      <td>1</td>\n",
=======
       "      <td>CJHWRXISOAYTL</td>\n",
>>>>>>> Task-1
       "      <td>1.724797</td>\n",
       "      <td>-2147483648</td>\n",
       "      <td>0</td>\n",
       "      <td>-2147483648</td>\n",
       "      <td>-2147483648</td>\n",
<<<<<<< HEAD
       "      <td>116</td>\n",
       "      <td>0.011891</td>\n",
       "      <td>23</td>\n",
       "      <td>4</td>\n",
       "      <td>1</td>\n",
       "      <td>0.000007</td>\n",
=======
       "      <td>...</td>\n",
       "      <td>False</td>\n",
       "      <td>False</td>\n",
       "      <td>True</td>\n",
       "      <td>False</td>\n",
       "      <td>False</td>\n",
       "      <td>True</td>\n",
       "      <td>False</td>\n",
       "      <td>False</td>\n",
       "      <td>False</td>\n",
       "      <td>True</td>\n",
>>>>>>> Task-1
       "    </tr>\n",
       "    <tr>\n",
       "      <th>3</th>\n",
       "      <td>24894</td>\n",
       "      <td>2015-01-07 05:59:11</td>\n",
       "      <td>2015-01-07 05:59:12</td>\n",
       "      <td>-0.104980</td>\n",
<<<<<<< HEAD
       "      <td>72228</td>\n",
       "      <td>2</td>\n",
       "      <td>1</td>\n",
       "      <td>0</td>\n",
=======
       "      <td>NWREMPUXZSXWE</td>\n",
>>>>>>> Task-1
       "      <td>1.492676</td>\n",
       "      <td>-2147483648</td>\n",
       "      <td>1</td>\n",
       "      <td>-2147483648</td>\n",
       "      <td>-2147483648</td>\n",
<<<<<<< HEAD
       "      <td>116</td>\n",
       "      <td>-1.577893</td>\n",
       "      <td>5</td>\n",
       "      <td>2</td>\n",
       "      <td>1</td>\n",
       "      <td>35.000000</td>\n",
=======
       "      <td>...</td>\n",
       "      <td>False</td>\n",
       "      <td>False</td>\n",
       "      <td>True</td>\n",
       "      <td>False</td>\n",
       "      <td>True</td>\n",
       "      <td>False</td>\n",
       "      <td>False</td>\n",
       "      <td>False</td>\n",
       "      <td>True</td>\n",
       "      <td>False</td>\n",
>>>>>>> Task-1
       "    </tr>\n",
       "    <tr>\n",
       "      <th>4</th>\n",
       "      <td>368181</td>\n",
       "      <td>2015-02-28 18:28:52</td>\n",
       "      <td>2015-03-06 16:32:41</td>\n",
       "      <td>-0.104980</td>\n",
<<<<<<< HEAD
       "      <td>39082</td>\n",
       "      <td>1</td>\n",
       "      <td>0</td>\n",
       "      <td>1</td>\n",
=======
       "      <td>HNQIPDXVRNDZU</td>\n",
>>>>>>> Task-1
       "      <td>-0.480352</td>\n",
       "      <td>-2147483648</td>\n",
       "      <td>0</td>\n",
       "      <td>-2147483648</td>\n",
       "      <td>-2147483648</td>\n",
<<<<<<< HEAD
       "      <td>116</td>\n",
       "      <td>-1.414283</td>\n",
       "      <td>16</td>\n",
       "      <td>4</td>\n",
       "      <td>1</td>\n",
       "      <td>0.000068</td>\n",
       "    </tr>\n",
       "  </tbody>\n",
       "</table>\n",
=======
       "      <td>...</td>\n",
       "      <td>False</td>\n",
       "      <td>True</td>\n",
       "      <td>False</td>\n",
       "      <td>True</td>\n",
       "      <td>False</td>\n",
       "      <td>False</td>\n",
       "      <td>False</td>\n",
       "      <td>False</td>\n",
       "      <td>False</td>\n",
       "      <td>True</td>\n",
       "    </tr>\n",
       "  </tbody>\n",
       "</table>\n",
       "<p>5 rows × 26 columns</p>\n",
>>>>>>> Task-1
       "</div>"
      ],
      "text/plain": [
       "   user_id          signup_time        purchase_time  purchase_value  \\\n",
       "0   138208  2015-06-10 07:02:20  2015-07-21 02:03:53       -0.924042   \n",
       "1   329438  2015-02-07 20:36:48  2015-02-28 21:43:52       -1.033250   \n",
       "2   319411  2015-01-08 11:11:50  2015-03-06 23:37:00       -0.050376   \n",
       "3    24894  2015-01-07 05:59:11  2015-01-07 05:59:12       -0.104980   \n",
       "4   368181  2015-02-28 18:28:52  2015-03-06 16:32:41       -0.104980   \n",
       "\n",
<<<<<<< HEAD
       "   device_id  source  browser  sex       age  ip_address  class  \\\n",
       "0     132509       1        2    1  0.564192 -2147483648      0   \n",
       "1      87274       2        2    1 -1.060654 -2147483648      0   \n",
       "2      12390       2        2    1  1.724797 -2147483648      0   \n",
       "3      72228       2        1    0  1.492676 -2147483648      1   \n",
       "4      39082       1        0    1 -0.480352 -2147483648      0   \n",
       "\n",
       "   lower_bound_ip_address  upper_bound_ip_address  country  time_to_purchase  \\\n",
       "0             -2147483648             -2147483648      116         -0.450381   \n",
       "1             -2147483648             -2147483648      116         -0.996166   \n",
       "2             -2147483648             -2147483648      116          0.011891   \n",
       "3             -2147483648             -2147483648      116         -1.577893   \n",
       "4             -2147483648             -2147483648      116         -1.414283   \n",
       "\n",
       "   hour_of_day  day_of_week  transaction_count  transaction_velocity  \n",
       "0            2            1                  1              0.000006  \n",
       "1           21            5                  1              0.000010  \n",
       "2           23            4                  1              0.000007  \n",
       "3            5            2                  1             35.000000  \n",
       "4           16            4                  1              0.000068  "
=======
       "       device_id       age  ip_address  class  lower_bound_ip_address  \\\n",
       "0  ZINIADFCLHYPG  0.564192 -2147483648      0             -2147483648   \n",
       "1  QSHYBRYJBNKMU -1.060654 -2147483648      0             -2147483648   \n",
       "2  CJHWRXISOAYTL  1.724797 -2147483648      0             -2147483648   \n",
       "3  NWREMPUXZSXWE  1.492676 -2147483648      1             -2147483648   \n",
       "4  HNQIPDXVRNDZU -0.480352 -2147483648      0             -2147483648   \n",
       "\n",
       "   upper_bound_ip_address  ... source_Ads  source_Direct  source_SEO  \\\n",
       "0             -2147483648  ...      False           True       False   \n",
       "1             -2147483648  ...      False          False        True   \n",
       "2             -2147483648  ...      False          False        True   \n",
       "3             -2147483648  ...      False          False        True   \n",
       "4             -2147483648  ...      False           True       False   \n",
       "\n",
       "   browser_Chrome  browser_FireFox  browser_IE  browser_Opera  browser_Safari  \\\n",
       "0           False            False        True          False           False   \n",
       "1           False            False        True          False           False   \n",
       "2           False            False        True          False           False   \n",
       "3           False             True       False          False           False   \n",
       "4            True            False       False          False           False   \n",
       "\n",
       "   sex_F  sex_M  \n",
       "0  False   True  \n",
       "1  False   True  \n",
       "2  False   True  \n",
       "3   True  False  \n",
       "4  False   True  \n",
       "\n",
       "[5 rows x 26 columns]"
>>>>>>> Task-1
      ]
     },
     "execution_count": 3,
     "metadata": {},
     "output_type": "execute_result"
    }
   ],
   "source": [
    "credit_card_df = pd.read_csv('C:/Users/teeyob/EagleEye_Fraud_Detection/data/creditcard.csv')\n",
<<<<<<< HEAD
=======
    "fraud_df = pd.read_csv('C:/Users/teeyob/EagleEye_Fraud_Detection/data/Fraud_Data.csv')\n",
    "ip_address_df = pd.read_csv('C:/Users/teeyob/EagleEye_Fraud_Detection/data/IpAddress_to_Country.csv')\n",
>>>>>>> Task-1
    "merged_fraud_data = pd.read_csv('C:/Users/teeyob/EagleEye_Fraud_Detection/data/merged_fraud_data.csv')\n",
    "merged_fraud_data.head()"
   ]
  },
  {
   "cell_type": "code",
   "execution_count": 4,
   "metadata": {},
<<<<<<< HEAD
=======
   "outputs": [
    {
     "ename": "KeyError",
     "evalue": "'browser'",
     "output_type": "error",
     "traceback": [
      "\u001b[1;31m---------------------------------------------------------------------------\u001b[0m",
      "\u001b[1;31mKeyError\u001b[0m                                  Traceback (most recent call last)",
      "File \u001b[1;32mc:\\Users\\teeyob\\EagleEye_Fraud_Detection\\.venv\\Lib\\site-packages\\pandas\\core\\indexes\\base.py:3805\u001b[0m, in \u001b[0;36mIndex.get_loc\u001b[1;34m(self, key)\u001b[0m\n\u001b[0;32m   3804\u001b[0m \u001b[38;5;28;01mtry\u001b[39;00m:\n\u001b[1;32m-> 3805\u001b[0m     \u001b[38;5;28;01mreturn\u001b[39;00m \u001b[38;5;28;43mself\u001b[39;49m\u001b[38;5;241;43m.\u001b[39;49m\u001b[43m_engine\u001b[49m\u001b[38;5;241;43m.\u001b[39;49m\u001b[43mget_loc\u001b[49m\u001b[43m(\u001b[49m\u001b[43mcasted_key\u001b[49m\u001b[43m)\u001b[49m\n\u001b[0;32m   3806\u001b[0m \u001b[38;5;28;01mexcept\u001b[39;00m \u001b[38;5;167;01mKeyError\u001b[39;00m \u001b[38;5;28;01mas\u001b[39;00m err:\n",
      "File \u001b[1;32mindex.pyx:167\u001b[0m, in \u001b[0;36mpandas._libs.index.IndexEngine.get_loc\u001b[1;34m()\u001b[0m\n",
      "File \u001b[1;32mindex.pyx:196\u001b[0m, in \u001b[0;36mpandas._libs.index.IndexEngine.get_loc\u001b[1;34m()\u001b[0m\n",
      "File \u001b[1;32mpandas\\\\_libs\\\\hashtable_class_helper.pxi:7081\u001b[0m, in \u001b[0;36mpandas._libs.hashtable.PyObjectHashTable.get_item\u001b[1;34m()\u001b[0m\n",
      "File \u001b[1;32mpandas\\\\_libs\\\\hashtable_class_helper.pxi:7089\u001b[0m, in \u001b[0;36mpandas._libs.hashtable.PyObjectHashTable.get_item\u001b[1;34m()\u001b[0m\n",
      "\u001b[1;31mKeyError\u001b[0m: 'browser'",
      "\nThe above exception was the direct cause of the following exception:\n",
      "\u001b[1;31mKeyError\u001b[0m                                  Traceback (most recent call last)",
      "Cell \u001b[1;32mIn[4], line 2\u001b[0m\n\u001b[0;32m      1\u001b[0m \u001b[38;5;28;01mfrom\u001b[39;00m \u001b[38;5;21;01mdata_preprocessing\u001b[39;00m \u001b[38;5;28;01mimport\u001b[39;00m correct_data_types\n\u001b[1;32m----> 2\u001b[0m fraud_df_cleaned1 \u001b[38;5;241m=\u001b[39m \u001b[43mcorrect_data_types\u001b[49m\u001b[43m(\u001b[49m\u001b[43mmerged_fraud_data\u001b[49m\u001b[43m)\u001b[49m\n\u001b[0;32m      3\u001b[0m \u001b[38;5;28mprint\u001b[39m(\u001b[38;5;124m\"\u001b[39m\u001b[38;5;124mData Types:\u001b[39m\u001b[38;5;130;01m\\n\u001b[39;00m\u001b[38;5;124m\"\u001b[39m, fraud_df_cleaned1\u001b[38;5;241m.\u001b[39mdtypes)\n",
      "File \u001b[1;32mc:\\Users\\teeyob\\EagleEye_Fraud_Detection\\scripts\\data_preprocessing.py:51\u001b[0m, in \u001b[0;36mcorrect_data_types\u001b[1;34m(df)\u001b[0m\n\u001b[0;32m     49\u001b[0m df[\u001b[38;5;124m'\u001b[39m\u001b[38;5;124mdevice_id\u001b[39m\u001b[38;5;124m'\u001b[39m] \u001b[38;5;241m=\u001b[39m df[\u001b[38;5;124m'\u001b[39m\u001b[38;5;124mdevice_id\u001b[39m\u001b[38;5;124m'\u001b[39m]\u001b[38;5;241m.\u001b[39mastype(\u001b[38;5;124m'\u001b[39m\u001b[38;5;124mcategory\u001b[39m\u001b[38;5;124m'\u001b[39m)\n\u001b[0;32m     50\u001b[0m \u001b[38;5;66;03m#df['source'] = df['source'].astype('category')\u001b[39;00m\n\u001b[1;32m---> 51\u001b[0m df[\u001b[38;5;124m'\u001b[39m\u001b[38;5;124mbrowser\u001b[39m\u001b[38;5;124m'\u001b[39m] \u001b[38;5;241m=\u001b[39m \u001b[43mdf\u001b[49m\u001b[43m[\u001b[49m\u001b[38;5;124;43m'\u001b[39;49m\u001b[38;5;124;43mbrowser\u001b[39;49m\u001b[38;5;124;43m'\u001b[39;49m\u001b[43m]\u001b[49m\u001b[38;5;241m.\u001b[39mastype(\u001b[38;5;124m'\u001b[39m\u001b[38;5;124mcategory\u001b[39m\u001b[38;5;124m'\u001b[39m)\n\u001b[0;32m     52\u001b[0m df[\u001b[38;5;124m'\u001b[39m\u001b[38;5;124msex\u001b[39m\u001b[38;5;124m'\u001b[39m] \u001b[38;5;241m=\u001b[39m df[\u001b[38;5;124m'\u001b[39m\u001b[38;5;124msex\u001b[39m\u001b[38;5;124m'\u001b[39m]\u001b[38;5;241m.\u001b[39mastype(\u001b[38;5;124m'\u001b[39m\u001b[38;5;124mcategory\u001b[39m\u001b[38;5;124m'\u001b[39m)\n\u001b[0;32m     54\u001b[0m \u001b[38;5;28;01mreturn\u001b[39;00m df\n",
      "File \u001b[1;32mc:\\Users\\teeyob\\EagleEye_Fraud_Detection\\.venv\\Lib\\site-packages\\pandas\\core\\frame.py:4102\u001b[0m, in \u001b[0;36mDataFrame.__getitem__\u001b[1;34m(self, key)\u001b[0m\n\u001b[0;32m   4100\u001b[0m \u001b[38;5;28;01mif\u001b[39;00m \u001b[38;5;28mself\u001b[39m\u001b[38;5;241m.\u001b[39mcolumns\u001b[38;5;241m.\u001b[39mnlevels \u001b[38;5;241m>\u001b[39m \u001b[38;5;241m1\u001b[39m:\n\u001b[0;32m   4101\u001b[0m     \u001b[38;5;28;01mreturn\u001b[39;00m \u001b[38;5;28mself\u001b[39m\u001b[38;5;241m.\u001b[39m_getitem_multilevel(key)\n\u001b[1;32m-> 4102\u001b[0m indexer \u001b[38;5;241m=\u001b[39m \u001b[38;5;28;43mself\u001b[39;49m\u001b[38;5;241;43m.\u001b[39;49m\u001b[43mcolumns\u001b[49m\u001b[38;5;241;43m.\u001b[39;49m\u001b[43mget_loc\u001b[49m\u001b[43m(\u001b[49m\u001b[43mkey\u001b[49m\u001b[43m)\u001b[49m\n\u001b[0;32m   4103\u001b[0m \u001b[38;5;28;01mif\u001b[39;00m is_integer(indexer):\n\u001b[0;32m   4104\u001b[0m     indexer \u001b[38;5;241m=\u001b[39m [indexer]\n",
      "File \u001b[1;32mc:\\Users\\teeyob\\EagleEye_Fraud_Detection\\.venv\\Lib\\site-packages\\pandas\\core\\indexes\\base.py:3812\u001b[0m, in \u001b[0;36mIndex.get_loc\u001b[1;34m(self, key)\u001b[0m\n\u001b[0;32m   3807\u001b[0m     \u001b[38;5;28;01mif\u001b[39;00m \u001b[38;5;28misinstance\u001b[39m(casted_key, \u001b[38;5;28mslice\u001b[39m) \u001b[38;5;129;01mor\u001b[39;00m (\n\u001b[0;32m   3808\u001b[0m         \u001b[38;5;28misinstance\u001b[39m(casted_key, abc\u001b[38;5;241m.\u001b[39mIterable)\n\u001b[0;32m   3809\u001b[0m         \u001b[38;5;129;01mand\u001b[39;00m \u001b[38;5;28many\u001b[39m(\u001b[38;5;28misinstance\u001b[39m(x, \u001b[38;5;28mslice\u001b[39m) \u001b[38;5;28;01mfor\u001b[39;00m x \u001b[38;5;129;01min\u001b[39;00m casted_key)\n\u001b[0;32m   3810\u001b[0m     ):\n\u001b[0;32m   3811\u001b[0m         \u001b[38;5;28;01mraise\u001b[39;00m InvalidIndexError(key)\n\u001b[1;32m-> 3812\u001b[0m     \u001b[38;5;28;01mraise\u001b[39;00m \u001b[38;5;167;01mKeyError\u001b[39;00m(key) \u001b[38;5;28;01mfrom\u001b[39;00m \u001b[38;5;21;01merr\u001b[39;00m\n\u001b[0;32m   3813\u001b[0m \u001b[38;5;28;01mexcept\u001b[39;00m \u001b[38;5;167;01mTypeError\u001b[39;00m:\n\u001b[0;32m   3814\u001b[0m     \u001b[38;5;66;03m# If we have a listlike key, _check_indexing_error will raise\u001b[39;00m\n\u001b[0;32m   3815\u001b[0m     \u001b[38;5;66;03m#  InvalidIndexError. Otherwise we fall through and re-raise\u001b[39;00m\n\u001b[0;32m   3816\u001b[0m     \u001b[38;5;66;03m#  the TypeError.\u001b[39;00m\n\u001b[0;32m   3817\u001b[0m     \u001b[38;5;28mself\u001b[39m\u001b[38;5;241m.\u001b[39m_check_indexing_error(key)\n",
      "\u001b[1;31mKeyError\u001b[0m: 'browser'"
     ]
    }
   ],
   "source": [
    "from data_preprocessing import correct_data_types\n",
    "fraud_df_cleaned1 = correct_data_types(merged_fraud_data)\n",
    "print(\"Data Types:\\n\", fraud_df_cleaned1.dtypes)"
   ]
  },
  {
   "cell_type": "code",
   "execution_count": null,
   "metadata": {},
>>>>>>> Task-1
   "outputs": [],
   "source": [
    "# Drop datetime columns\n",
    "fraud_df_cleaned = merged_fraud_data.drop(columns=['signup_time', 'purchase_time'])"
   ]
  },
  {
   "cell_type": "code",
<<<<<<< HEAD
   "execution_count": 5,
   "metadata": {},
   "outputs": [],
   "source": [
    "from model_building import prepare_data, train_evaluate_model, log_model_with_mlflow, get_models, build_cnn_model, build_lstm_model,build_rnn_model\n"
   ]
  },
  {
   "cell_type": "markdown",
   "metadata": {},
   "source": [
    "For Merged Data"
=======
   "execution_count": null,
   "metadata": {},
   "outputs": [],
   "source": [
    "merged_fraud_data.dtypes"
>>>>>>> Task-1
   ]
  },
  {
   "cell_type": "code",
   "execution_count": 6,
   "metadata": {},
   "outputs": [],
   "source": [
<<<<<<< HEAD
    "X_train, X_test, y_train, y_test = prepare_data(fraud_df_cleaned) \n"
=======
    "from model_building import data_preparation, train_classical_models, train_cnn_model, log_model_with_mlflow, save_model, load_model\n",
    "import pandas as pd"
   ]
  },
  {
   "cell_type": "markdown",
   "metadata": {},
   "source": [
    "Data Preparation"
>>>>>>> Task-1
   ]
  },
  {
   "cell_type": "code",
   "execution_count": 7,
   "metadata": {},
<<<<<<< HEAD
   "outputs": [
    {
     "name": "stderr",
     "output_type": "stream",
     "text": [
      "2024/10/23 17:36:13 INFO mlflow.tracking.fluent: Experiment with name 'Merged_Fraud_Detection' does not exist. Creating a new experiment.\n"
     ]
    },
    {
     "name": "stdout",
     "output_type": "stream",
     "text": [
      "Logistic Regression Accuracy: 0.906315082297615\n",
      "              precision    recall  f1-score   support\n",
      "\n",
      "           0       0.91      1.00      0.95     26998\n",
      "           1       0.13      0.00      0.00      2772\n",
      "\n",
      "    accuracy                           0.91     29770\n",
      "   macro avg       0.52      0.50      0.48     29770\n",
      "weighted avg       0.83      0.91      0.86     29770\n",
      "\n"
     ]
    },
    {
     "name": "stderr",
     "output_type": "stream",
     "text": [
      "2024/10/23 17:36:21 WARNING mlflow.models.model: Model logged without a signature and input example. Please set `input_example` parameter when logging the model to auto infer the model signature.\n"
     ]
    },
    {
     "name": "stdout",
     "output_type": "stream",
     "text": [
      "Decision Tree Accuracy: 0.9077258985555928\n",
      "              precision    recall  f1-score   support\n",
      "\n",
      "           0       0.95      0.94      0.95     26998\n",
      "           1       0.50      0.56      0.53      2772\n",
      "\n",
      "    accuracy                           0.91     29770\n",
      "   macro avg       0.73      0.75      0.74     29770\n",
      "weighted avg       0.91      0.91      0.91     29770\n",
      "\n"
     ]
    },
    {
     "name": "stderr",
     "output_type": "stream",
     "text": [
      "2024/10/23 17:36:27 WARNING mlflow.models.model: Model logged without a signature and input example. Please set `input_example` parameter when logging the model to auto infer the model signature.\n"
     ]
    },
    {
     "name": "stdout",
     "output_type": "stream",
     "text": [
      "Random Forest Accuracy: 0.9568357406785354\n",
      "              precision    recall  f1-score   support\n",
      "\n",
      "           0       0.95      1.00      0.98     26998\n",
      "           1       1.00      0.54      0.70      2772\n",
      "\n",
      "    accuracy                           0.96     29770\n",
      "   macro avg       0.98      0.77      0.84     29770\n",
      "weighted avg       0.96      0.96      0.95     29770\n",
      "\n"
     ]
    },
    {
     "name": "stderr",
     "output_type": "stream",
     "text": [
      "2024/10/23 17:37:17 WARNING mlflow.models.model: Model logged without a signature and input example. Please set `input_example` parameter when logging the model to auto infer the model signature.\n"
     ]
    },
    {
     "name": "stdout",
     "output_type": "stream",
     "text": [
      "Gradient Boosting Accuracy: 0.9567685589519651\n",
      "              precision    recall  f1-score   support\n",
      "\n",
      "           0       0.95      1.00      0.98     26998\n",
      "           1       1.00      0.54      0.70      2772\n",
      "\n",
      "    accuracy                           0.96     29770\n",
      "   macro avg       0.98      0.77      0.84     29770\n",
      "weighted avg       0.96      0.96      0.95     29770\n",
      "\n"
     ]
    },
    {
     "name": "stderr",
     "output_type": "stream",
     "text": [
      "2024/10/23 17:37:57 WARNING mlflow.models.model: Model logged without a signature and input example. Please set `input_example` parameter when logging the model to auto infer the model signature.\n"
     ]
    },
    {
     "name": "stdout",
     "output_type": "stream",
     "text": [
      "Multi-Layer Perceptron Accuracy: 0.9026200873362445\n",
      "              precision    recall  f1-score   support\n",
      "\n",
      "           0       0.91      0.99      0.95     26998\n",
      "           1       0.06      0.00      0.01      2772\n",
      "\n",
      "    accuracy                           0.90     29770\n",
      "   macro avg       0.48      0.50      0.48     29770\n",
      "weighted avg       0.83      0.90      0.86     29770\n",
      "\n"
     ]
    },
    {
     "name": "stderr",
     "output_type": "stream",
     "text": [
      "2024/10/23 17:38:06 WARNING mlflow.models.model: Model logged without a signature and input example. Please set `input_example` parameter when logging the model to auto infer the model signature.\n"
     ]
    },
    {
     "name": "stdout",
     "output_type": "stream",
     "text": [
      "Epoch 1/50\n"
     ]
    },
    {
     "name": "stderr",
     "output_type": "stream",
     "text": [
      "c:\\Users\\teeyob\\EagleEye_Fraud_Detection\\.venv\\Lib\\site-packages\\keras\\src\\layers\\convolutional\\base_conv.py:107: UserWarning: Do not pass an `input_shape`/`input_dim` argument to a layer. When using Sequential models, prefer using an `Input(shape)` object as the first layer in the model instead.\n",
      "  super().__init__(activity_regularizer=activity_regularizer, **kwargs)\n"
     ]
    },
    {
     "name": "stdout",
     "output_type": "stream",
     "text": [
      "\u001b[1m3722/3722\u001b[0m \u001b[32m━━━━━━━━━━━━━━━━━━━━\u001b[0m\u001b[37m\u001b[0m \u001b[1m6s\u001b[0m 1ms/step - accuracy: 0.8325 - loss: 2855543.7500\n",
      "Epoch 2/50\n",
      "\u001b[1m3722/3722\u001b[0m \u001b[32m━━━━━━━━━━━━━━━━━━━━\u001b[0m\u001b[37m\u001b[0m \u001b[1m5s\u001b[0m 1ms/step - accuracy: 0.8293 - loss: 464704.0000\n",
      "Epoch 3/50\n",
      "\u001b[1m3722/3722\u001b[0m \u001b[32m━━━━━━━━━━━━━━━━━━━━\u001b[0m\u001b[37m\u001b[0m \u001b[1m5s\u001b[0m 1ms/step - accuracy: 0.8297 - loss: 120749.3281\n",
      "Epoch 4/50\n",
      "\u001b[1m3722/3722\u001b[0m \u001b[32m━━━━━━━━━━━━━━━━━━━━\u001b[0m\u001b[37m\u001b[0m \u001b[1m5s\u001b[0m 1ms/step - accuracy: 0.8277 - loss: 32133.4629\n",
      "Epoch 5/50\n",
      "\u001b[1m3722/3722\u001b[0m \u001b[32m━━━━━━━━━━━━━━━━━━━━\u001b[0m\u001b[37m\u001b[0m \u001b[1m5s\u001b[0m 1ms/step - accuracy: 0.8619 - loss: 3514.5056\n",
      "Epoch 6/50\n",
      "\u001b[1m3722/3722\u001b[0m \u001b[32m━━━━━━━━━━━━━━━━━━━━\u001b[0m\u001b[37m\u001b[0m \u001b[1m5s\u001b[0m 1ms/step - accuracy: 0.8766 - loss: 317.8145\n",
      "Epoch 7/50\n",
      "\u001b[1m3722/3722\u001b[0m \u001b[32m━━━━━━━━━━━━━━━━━━━━\u001b[0m\u001b[37m\u001b[0m \u001b[1m5s\u001b[0m 1ms/step - accuracy: 0.9062 - loss: 0.3114\n",
      "Epoch 8/50\n",
      "\u001b[1m3722/3722\u001b[0m \u001b[32m━━━━━━━━━━━━━━━━━━━━\u001b[0m\u001b[37m\u001b[0m \u001b[1m5s\u001b[0m 1ms/step - accuracy: 0.9057 - loss: 0.3124\n",
      "Epoch 9/50\n",
      "\u001b[1m3722/3722\u001b[0m \u001b[32m━━━━━━━━━━━━━━━━━━━━\u001b[0m\u001b[37m\u001b[0m \u001b[1m5s\u001b[0m 1ms/step - accuracy: 0.9057 - loss: 0.3123\n",
      "Epoch 10/50\n",
      "\u001b[1m3722/3722\u001b[0m \u001b[32m━━━━━━━━━━━━━━━━━━━━\u001b[0m\u001b[37m\u001b[0m \u001b[1m5s\u001b[0m 1ms/step - accuracy: 0.9069 - loss: 0.3097\n",
      "Epoch 11/50\n",
      "\u001b[1m3722/3722\u001b[0m \u001b[32m━━━━━━━━━━━━━━━━━━━━\u001b[0m\u001b[37m\u001b[0m \u001b[1m5s\u001b[0m 1ms/step - accuracy: 0.9052 - loss: 0.3134\n",
      "Epoch 12/50\n",
      "\u001b[1m3722/3722\u001b[0m \u001b[32m━━━━━━━━━━━━━━━━━━━━\u001b[0m\u001b[37m\u001b[0m \u001b[1m5s\u001b[0m 1ms/step - accuracy: 0.9058 - loss: 0.3122\n",
      "Epoch 13/50\n",
      "\u001b[1m3722/3722\u001b[0m \u001b[32m━━━━━━━━━━━━━━━━━━━━\u001b[0m\u001b[37m\u001b[0m \u001b[1m5s\u001b[0m 1ms/step - accuracy: 0.9073 - loss: 0.3087\n",
      "Epoch 14/50\n",
      "\u001b[1m3722/3722\u001b[0m \u001b[32m━━━━━━━━━━━━━━━━━━━━\u001b[0m\u001b[37m\u001b[0m \u001b[1m5s\u001b[0m 1ms/step - accuracy: 0.9068 - loss: 0.3100\n",
      "Epoch 15/50\n",
      "\u001b[1m3722/3722\u001b[0m \u001b[32m━━━━━━━━━━━━━━━━━━━━\u001b[0m\u001b[37m\u001b[0m \u001b[1m5s\u001b[0m 1ms/step - accuracy: 0.9067 - loss: 0.3101\n",
      "Epoch 16/50\n",
      "\u001b[1m3722/3722\u001b[0m \u001b[32m━━━━━━━━━━━━━━━━━━━━\u001b[0m\u001b[37m\u001b[0m \u001b[1m5s\u001b[0m 1ms/step - accuracy: 0.9060 - loss: 0.3117\n",
      "Epoch 17/50\n",
      "\u001b[1m3722/3722\u001b[0m \u001b[32m━━━━━━━━━━━━━━━━━━━━\u001b[0m\u001b[37m\u001b[0m \u001b[1m5s\u001b[0m 1ms/step - accuracy: 0.9048 - loss: 0.3144\n",
      "Epoch 18/50\n",
      "\u001b[1m3722/3722\u001b[0m \u001b[32m━━━━━━━━━━━━━━━━━━━━\u001b[0m\u001b[37m\u001b[0m \u001b[1m5s\u001b[0m 1ms/step - accuracy: 0.9061 - loss: 0.3115\n",
      "Epoch 19/50\n",
      "\u001b[1m3722/3722\u001b[0m \u001b[32m━━━━━━━━━━━━━━━━━━━━\u001b[0m\u001b[37m\u001b[0m \u001b[1m5s\u001b[0m 1ms/step - accuracy: 0.9058 - loss: 0.3121\n",
      "Epoch 20/50\n",
      "\u001b[1m3722/3722\u001b[0m \u001b[32m━━━━━━━━━━━━━━━━━━━━\u001b[0m\u001b[37m\u001b[0m \u001b[1m5s\u001b[0m 1ms/step - accuracy: 0.9039 - loss: 0.3164\n",
      "Epoch 21/50\n",
      "\u001b[1m3722/3722\u001b[0m \u001b[32m━━━━━━━━━━━━━━━━━━━━\u001b[0m\u001b[37m\u001b[0m \u001b[1m5s\u001b[0m 1ms/step - accuracy: 0.9072 - loss: 0.3090\n",
      "Epoch 22/50\n",
      "\u001b[1m3722/3722\u001b[0m \u001b[32m━━━━━━━━━━━━━━━━━━━━\u001b[0m\u001b[37m\u001b[0m \u001b[1m5s\u001b[0m 1ms/step - accuracy: 0.9060 - loss: 0.3116\n",
      "Epoch 23/50\n",
      "\u001b[1m3722/3722\u001b[0m \u001b[32m━━━━━━━━━━━━━━━━━━━━\u001b[0m\u001b[37m\u001b[0m \u001b[1m5s\u001b[0m 1ms/step - accuracy: 0.9067 - loss: 0.3101\n",
      "Epoch 24/50\n",
      "\u001b[1m3722/3722\u001b[0m \u001b[32m━━━━━━━━━━━━━━━━━━━━\u001b[0m\u001b[37m\u001b[0m \u001b[1m5s\u001b[0m 1ms/step - accuracy: 0.9061 - loss: 0.3114\n",
      "Epoch 25/50\n",
      "\u001b[1m3722/3722\u001b[0m \u001b[32m━━━━━━━━━━━━━━━━━━━━\u001b[0m\u001b[37m\u001b[0m \u001b[1m5s\u001b[0m 1ms/step - accuracy: 0.9062 - loss: 0.3113\n",
      "Epoch 26/50\n",
      "\u001b[1m3722/3722\u001b[0m \u001b[32m━━━━━━━━━━━━━━━━━━━━\u001b[0m\u001b[37m\u001b[0m \u001b[1m5s\u001b[0m 1ms/step - accuracy: 0.9068 - loss: 0.3100\n",
      "Epoch 27/50\n",
      "\u001b[1m3722/3722\u001b[0m \u001b[32m━━━━━━━━━━━━━━━━━━━━\u001b[0m\u001b[37m\u001b[0m \u001b[1m5s\u001b[0m 1ms/step - accuracy: 0.9069 - loss: 0.3098\n",
      "Epoch 28/50\n",
      "\u001b[1m3722/3722\u001b[0m \u001b[32m━━━━━━━━━━━━━━━━━━━━\u001b[0m\u001b[37m\u001b[0m \u001b[1m5s\u001b[0m 1ms/step - accuracy: 0.9056 - loss: 0.3127\n",
      "Epoch 29/50\n",
      "\u001b[1m3722/3722\u001b[0m \u001b[32m━━━━━━━━━━━━━━━━━━━━\u001b[0m\u001b[37m\u001b[0m \u001b[1m5s\u001b[0m 1ms/step - accuracy: 0.9067 - loss: 0.3101\n",
      "Epoch 30/50\n",
      "\u001b[1m3722/3722\u001b[0m \u001b[32m━━━━━━━━━━━━━━━━━━━━\u001b[0m\u001b[37m\u001b[0m \u001b[1m5s\u001b[0m 1ms/step - accuracy: 0.9062 - loss: 0.3112\n",
      "Epoch 31/50\n",
      "\u001b[1m3722/3722\u001b[0m \u001b[32m━━━━━━━━━━━━━━━━━━━━\u001b[0m\u001b[37m\u001b[0m \u001b[1m5s\u001b[0m 1ms/step - accuracy: 0.9053 - loss: 0.3134\n",
      "Epoch 32/50\n",
      "\u001b[1m3722/3722\u001b[0m \u001b[32m━━━━━━━━━━━━━━━━━━━━\u001b[0m\u001b[37m\u001b[0m \u001b[1m5s\u001b[0m 1ms/step - accuracy: 0.9073 - loss: 0.3088\n",
      "Epoch 33/50\n",
      "\u001b[1m3722/3722\u001b[0m \u001b[32m━━━━━━━━━━━━━━━━━━━━\u001b[0m\u001b[37m\u001b[0m \u001b[1m5s\u001b[0m 1ms/step - accuracy: 0.9057 - loss: 0.3123\n",
      "Epoch 34/50\n",
      "\u001b[1m3722/3722\u001b[0m \u001b[32m━━━━━━━━━━━━━━━━━━━━\u001b[0m\u001b[37m\u001b[0m \u001b[1m5s\u001b[0m 1ms/step - accuracy: 0.9063 - loss: 0.3110\n",
      "Epoch 35/50\n",
      "\u001b[1m3722/3722\u001b[0m \u001b[32m━━━━━━━━━━━━━━━━━━━━\u001b[0m\u001b[37m\u001b[0m \u001b[1m5s\u001b[0m 1ms/step - accuracy: 0.9074 - loss: 0.3084\n",
      "Epoch 36/50\n",
      "\u001b[1m3722/3722\u001b[0m \u001b[32m━━━━━━━━━━━━━━━━━━━━\u001b[0m\u001b[37m\u001b[0m \u001b[1m5s\u001b[0m 1ms/step - accuracy: 0.9067 - loss: 0.3101\n",
      "Epoch 37/50\n",
      "\u001b[1m3722/3722\u001b[0m \u001b[32m━━━━━━━━━━━━━━━━━━━━\u001b[0m\u001b[37m\u001b[0m \u001b[1m5s\u001b[0m 1ms/step - accuracy: 0.9066 - loss: 0.3104\n",
      "Epoch 38/50\n",
      "\u001b[1m3722/3722\u001b[0m \u001b[32m━━━━━━━━━━━━━━━━━━━━\u001b[0m\u001b[37m\u001b[0m \u001b[1m5s\u001b[0m 1ms/step - accuracy: 0.9068 - loss: 0.3099\n",
      "Epoch 39/50\n",
      "\u001b[1m3722/3722\u001b[0m \u001b[32m━━━━━━━━━━━━━━━━━━━━\u001b[0m\u001b[37m\u001b[0m \u001b[1m5s\u001b[0m 1ms/step - accuracy: 0.9070 - loss: 0.3094\n",
      "Epoch 40/50\n",
      "\u001b[1m3722/3722\u001b[0m \u001b[32m━━━━━━━━━━━━━━━━━━━━\u001b[0m\u001b[37m\u001b[0m \u001b[1m5s\u001b[0m 1ms/step - accuracy: 0.9064 - loss: 0.3108\n",
      "Epoch 41/50\n",
      "\u001b[1m3722/3722\u001b[0m \u001b[32m━━━━━━━━━━━━━━━━━━━━\u001b[0m\u001b[37m\u001b[0m \u001b[1m5s\u001b[0m 1ms/step - accuracy: 0.9073 - loss: 0.3088\n",
      "Epoch 42/50\n",
      "\u001b[1m3722/3722\u001b[0m \u001b[32m━━━━━━━━━━━━━━━━━━━━\u001b[0m\u001b[37m\u001b[0m \u001b[1m5s\u001b[0m 1ms/step - accuracy: 0.9066 - loss: 0.3103\n",
      "Epoch 43/50\n",
      "\u001b[1m3722/3722\u001b[0m \u001b[32m━━━━━━━━━━━━━━━━━━━━\u001b[0m\u001b[37m\u001b[0m \u001b[1m5s\u001b[0m 1ms/step - accuracy: 0.9066 - loss: 0.3102\n",
      "Epoch 44/50\n",
      "\u001b[1m3722/3722\u001b[0m \u001b[32m━━━━━━━━━━━━━━━━━━━━\u001b[0m\u001b[37m\u001b[0m \u001b[1m5s\u001b[0m 1ms/step - accuracy: 0.9065 - loss: 0.3105\n",
      "Epoch 45/50\n",
      "\u001b[1m3722/3722\u001b[0m \u001b[32m━━━━━━━━━━━━━━━━━━━━\u001b[0m\u001b[37m\u001b[0m \u001b[1m5s\u001b[0m 1ms/step - accuracy: 0.9066 - loss: 0.3104\n",
      "Epoch 46/50\n",
      "\u001b[1m3722/3722\u001b[0m \u001b[32m━━━━━━━━━━━━━━━━━━━━\u001b[0m\u001b[37m\u001b[0m \u001b[1m5s\u001b[0m 1ms/step - accuracy: 0.9061 - loss: 0.3114\n",
      "Epoch 47/50\n",
      "\u001b[1m3722/3722\u001b[0m \u001b[32m━━━━━━━━━━━━━━━━━━━━\u001b[0m\u001b[37m\u001b[0m \u001b[1m5s\u001b[0m 1ms/step - accuracy: 0.9068 - loss: 0.3099\n",
      "Epoch 48/50\n",
      "\u001b[1m3722/3722\u001b[0m \u001b[32m━━━━━━━━━━━━━━━━━━━━\u001b[0m\u001b[37m\u001b[0m \u001b[1m5s\u001b[0m 1ms/step - accuracy: 0.9073 - loss: 0.3087\n",
      "Epoch 49/50\n",
      "\u001b[1m3722/3722\u001b[0m \u001b[32m━━━━━━━━━━━━━━━━━━━━\u001b[0m\u001b[37m\u001b[0m \u001b[1m5s\u001b[0m 1ms/step - accuracy: 0.9068 - loss: 0.3099\n",
      "Epoch 50/50\n",
      "\u001b[1m3722/3722\u001b[0m \u001b[32m━━━━━━━━━━━━━━━━━━━━\u001b[0m\u001b[37m\u001b[0m \u001b[1m5s\u001b[0m 1ms/step - accuracy: 0.9050 - loss: 0.3139\n",
      "\u001b[1m931/931\u001b[0m \u001b[32m━━━━━━━━━━━━━━━━━━━━\u001b[0m\u001b[37m\u001b[0m \u001b[1m1s\u001b[0m 902us/step - accuracy: 0.9094 - loss: 0.3039\n",
      "CNN Model Accuracy: 0.906886100769043\n"
     ]
    },
    {
     "name": "stderr",
     "output_type": "stream",
     "text": [
      "2024/10/23 17:42:20 WARNING mlflow.models.model: Model logged without a signature and input example. Please set `input_example` parameter when logging the model to auto infer the model signature.\n"
     ]
    },
    {
     "name": "stdout",
     "output_type": "stream",
     "text": [
      "Epoch 1/50\n"
     ]
    },
    {
     "name": "stderr",
     "output_type": "stream",
     "text": [
      "c:\\Users\\teeyob\\EagleEye_Fraud_Detection\\.venv\\Lib\\site-packages\\keras\\src\\layers\\rnn\\rnn.py:204: UserWarning: Do not pass an `input_shape`/`input_dim` argument to a layer. When using Sequential models, prefer using an `Input(shape)` object as the first layer in the model instead.\n",
      "  super().__init__(**kwargs)\n"
     ]
    },
    {
     "name": "stdout",
     "output_type": "stream",
     "text": [
      "\u001b[1m3722/3722\u001b[0m \u001b[32m━━━━━━━━━━━━━━━━━━━━\u001b[0m\u001b[37m\u001b[0m \u001b[1m14s\u001b[0m 3ms/step - accuracy: 0.7945 - loss: 557170.8750\n",
      "Epoch 2/50\n",
      "\u001b[1m3722/3722\u001b[0m \u001b[32m━━━━━━━━━━━━━━━━━━━━\u001b[0m\u001b[37m\u001b[0m \u001b[1m12s\u001b[0m 3ms/step - accuracy: 0.8181 - loss: 13899.7002\n",
      "Epoch 3/50\n",
      "\u001b[1m3722/3722\u001b[0m \u001b[32m━━━━━━━━━━━━━━━━━━━━\u001b[0m\u001b[37m\u001b[0m \u001b[1m13s\u001b[0m 3ms/step - accuracy: 0.8642 - loss: 5628.5518\n",
      "Epoch 4/50\n",
      "\u001b[1m3722/3722\u001b[0m \u001b[32m━━━━━━━━━━━━━━━━━━━━\u001b[0m\u001b[37m\u001b[0m \u001b[1m13s\u001b[0m 3ms/step - accuracy: 0.7326 - loss: 1368.0883\n",
      "Epoch 5/50\n",
      "\u001b[1m3722/3722\u001b[0m \u001b[32m━━━━━━━━━━━━━━━━━━━━\u001b[0m\u001b[37m\u001b[0m \u001b[1m13s\u001b[0m 3ms/step - accuracy: 0.7580 - loss: 3074.0427\n",
      "Epoch 6/50\n",
      "\u001b[1m3722/3722\u001b[0m \u001b[32m━━━━━━━━━━━━━━━━━━━━\u001b[0m\u001b[37m\u001b[0m \u001b[1m13s\u001b[0m 3ms/step - accuracy: 0.8734 - loss: 25733.4082\n",
      "Epoch 7/50\n",
      "\u001b[1m3722/3722\u001b[0m \u001b[32m━━━━━━━━━━━━━━━━━━━━\u001b[0m\u001b[37m\u001b[0m \u001b[1m12s\u001b[0m 3ms/step - accuracy: 0.8547 - loss: 23271.1562\n",
      "Epoch 8/50\n",
      "\u001b[1m3722/3722\u001b[0m \u001b[32m━━━━━━━━━━━━━━━━━━━━\u001b[0m\u001b[37m\u001b[0m \u001b[1m13s\u001b[0m 3ms/step - accuracy: 0.8622 - loss: 1519.2554\n",
      "Epoch 9/50\n",
      "\u001b[1m3722/3722\u001b[0m \u001b[32m━━━━━━━━━━━━━━━━━━━━\u001b[0m\u001b[37m\u001b[0m \u001b[1m13s\u001b[0m 3ms/step - accuracy: 0.8428 - loss: 219.2254\n",
      "Epoch 10/50\n",
      "\u001b[1m3722/3722\u001b[0m \u001b[32m━━━━━━━━━━━━━━━━━━━━\u001b[0m\u001b[37m\u001b[0m \u001b[1m13s\u001b[0m 3ms/step - accuracy: 0.8865 - loss: 362.0266\n",
      "Epoch 11/50\n",
      "\u001b[1m3722/3722\u001b[0m \u001b[32m━━━━━━━━━━━━━━━━━━━━\u001b[0m\u001b[37m\u001b[0m \u001b[1m13s\u001b[0m 3ms/step - accuracy: 0.8594 - loss: 117.8785\n",
      "Epoch 12/50\n",
      "\u001b[1m3722/3722\u001b[0m \u001b[32m━━━━━━━━━━━━━━━━━━━━\u001b[0m\u001b[37m\u001b[0m \u001b[1m13s\u001b[0m 3ms/step - accuracy: 0.8644 - loss: 23.9222\n",
      "Epoch 13/50\n",
      "\u001b[1m3722/3722\u001b[0m \u001b[32m━━━━━━━━━━━━━━━━━━━━\u001b[0m\u001b[37m\u001b[0m \u001b[1m13s\u001b[0m 3ms/step - accuracy: 0.8742 - loss: 1546.5593\n",
      "Epoch 14/50\n",
      "\u001b[1m3722/3722\u001b[0m \u001b[32m━━━━━━━━━━━━━━━━━━━━\u001b[0m\u001b[37m\u001b[0m \u001b[1m13s\u001b[0m 3ms/step - accuracy: 0.8672 - loss: 2510.0403\n",
      "Epoch 15/50\n",
      "\u001b[1m3722/3722\u001b[0m \u001b[32m━━━━━━━━━━━━━━━━━━━━\u001b[0m\u001b[37m\u001b[0m \u001b[1m13s\u001b[0m 3ms/step - accuracy: 0.8697 - loss: 10014.6875\n",
      "Epoch 16/50\n",
      "\u001b[1m3722/3722\u001b[0m \u001b[32m━━━━━━━━━━━━━━━━━━━━\u001b[0m\u001b[37m\u001b[0m \u001b[1m13s\u001b[0m 3ms/step - accuracy: 0.8683 - loss: 2345.6060\n",
      "Epoch 17/50\n",
      "\u001b[1m3722/3722\u001b[0m \u001b[32m━━━━━━━━━━━━━━━━━━━━\u001b[0m\u001b[37m\u001b[0m \u001b[1m13s\u001b[0m 3ms/step - accuracy: 0.8870 - loss: 297.7939\n",
      "Epoch 18/50\n",
      "\u001b[1m3722/3722\u001b[0m \u001b[32m━━━━━━━━━━━━━━━━━━━━\u001b[0m\u001b[37m\u001b[0m \u001b[1m13s\u001b[0m 3ms/step - accuracy: 0.8714 - loss: 171.3202\n",
      "Epoch 19/50\n",
      "\u001b[1m3722/3722\u001b[0m \u001b[32m━━━━━━━━━━━━━━━━━━━━\u001b[0m\u001b[37m\u001b[0m \u001b[1m13s\u001b[0m 4ms/step - accuracy: 0.8603 - loss: 464.7799\n",
      "Epoch 20/50\n",
      "\u001b[1m3722/3722\u001b[0m \u001b[32m━━━━━━━━━━━━━━━━━━━━\u001b[0m\u001b[37m\u001b[0m \u001b[1m20s\u001b[0m 3ms/step - accuracy: 0.8630 - loss: 2453.4934\n",
      "Epoch 21/50\n",
      "\u001b[1m3722/3722\u001b[0m \u001b[32m━━━━━━━━━━━━━━━━━━━━\u001b[0m\u001b[37m\u001b[0m \u001b[1m13s\u001b[0m 3ms/step - accuracy: 0.8872 - loss: 9.8543\n",
      "Epoch 22/50\n",
      "\u001b[1m3722/3722\u001b[0m \u001b[32m━━━━━━━━━━━━━━━━━━━━\u001b[0m\u001b[37m\u001b[0m \u001b[1m13s\u001b[0m 3ms/step - accuracy: 0.8780 - loss: 2104.1797\n",
      "Epoch 23/50\n",
      "\u001b[1m3722/3722\u001b[0m \u001b[32m━━━━━━━━━━━━━━━━━━━━\u001b[0m\u001b[37m\u001b[0m \u001b[1m13s\u001b[0m 3ms/step - accuracy: 0.8910 - loss: 710.7911\n",
      "Epoch 24/50\n",
      "\u001b[1m3722/3722\u001b[0m \u001b[32m━━━━━━━━━━━━━━━━━━━━\u001b[0m\u001b[37m\u001b[0m \u001b[1m13s\u001b[0m 3ms/step - accuracy: 0.9028 - loss: 20.9024\n",
      "Epoch 25/50\n",
      "\u001b[1m3722/3722\u001b[0m \u001b[32m━━━━━━━━━━━━━━━━━━━━\u001b[0m\u001b[37m\u001b[0m \u001b[1m13s\u001b[0m 3ms/step - accuracy: 0.9057 - loss: 15.1003\n",
      "Epoch 26/50\n",
      "\u001b[1m3722/3722\u001b[0m \u001b[32m━━━━━━━━━━━━━━━━━━━━\u001b[0m\u001b[37m\u001b[0m \u001b[1m13s\u001b[0m 3ms/step - accuracy: 0.9015 - loss: 325.4996\n",
      "Epoch 27/50\n",
      "\u001b[1m3722/3722\u001b[0m \u001b[32m━━━━━━━━━━━━━━━━━━━━\u001b[0m\u001b[37m\u001b[0m \u001b[1m13s\u001b[0m 3ms/step - accuracy: 0.9038 - loss: 4.0403\n",
      "Epoch 28/50\n",
      "\u001b[1m3722/3722\u001b[0m \u001b[32m━━━━━━━━━━━━━━━━━━━━\u001b[0m\u001b[37m\u001b[0m \u001b[1m13s\u001b[0m 3ms/step - accuracy: 0.9091 - loss: 23.6592\n",
      "Epoch 29/50\n",
      "\u001b[1m3722/3722\u001b[0m \u001b[32m━━━━━━━━━━━━━━━━━━━━\u001b[0m\u001b[37m\u001b[0m \u001b[1m13s\u001b[0m 3ms/step - accuracy: 0.9029 - loss: 873.7341\n",
      "Epoch 30/50\n",
      "\u001b[1m3722/3722\u001b[0m \u001b[32m━━━━━━━━━━━━━━━━━━━━\u001b[0m\u001b[37m\u001b[0m \u001b[1m13s\u001b[0m 3ms/step - accuracy: 0.8846 - loss: 2.5025\n",
      "Epoch 31/50\n",
      "\u001b[1m3722/3722\u001b[0m \u001b[32m━━━━━━━━━━━━━━━━━━━━\u001b[0m\u001b[37m\u001b[0m \u001b[1m21s\u001b[0m 3ms/step - accuracy: 0.8936 - loss: 766.8110\n",
      "Epoch 32/50\n",
      "\u001b[1m3722/3722\u001b[0m \u001b[32m━━━━━━━━━━━━━━━━━━━━\u001b[0m\u001b[37m\u001b[0m \u001b[1m21s\u001b[0m 4ms/step - accuracy: 0.8874 - loss: 8219.1387\n",
      "Epoch 33/50\n",
      "\u001b[1m3722/3722\u001b[0m \u001b[32m━━━━━━━━━━━━━━━━━━━━\u001b[0m\u001b[37m\u001b[0m \u001b[1m13s\u001b[0m 3ms/step - accuracy: 0.8978 - loss: 176.9450\n",
      "Epoch 34/50\n",
      "\u001b[1m3722/3722\u001b[0m \u001b[32m━━━━━━━━━━━━━━━━━━━━\u001b[0m\u001b[37m\u001b[0m \u001b[1m13s\u001b[0m 3ms/step - accuracy: 0.9052 - loss: 304.4482\n",
      "Epoch 35/50\n",
      "\u001b[1m3722/3722\u001b[0m \u001b[32m━━━━━━━━━━━━━━━━━━━━\u001b[0m\u001b[37m\u001b[0m \u001b[1m13s\u001b[0m 3ms/step - accuracy: 0.9381 - loss: 471.1373\n",
      "Epoch 36/50\n",
      "\u001b[1m3722/3722\u001b[0m \u001b[32m━━━━━━━━━━━━━━━━━━━━\u001b[0m\u001b[37m\u001b[0m \u001b[1m13s\u001b[0m 3ms/step - accuracy: 0.8980 - loss: 1578.3364\n",
      "Epoch 37/50\n",
      "\u001b[1m3722/3722\u001b[0m \u001b[32m━━━━━━━━━━━━━━━━━━━━\u001b[0m\u001b[37m\u001b[0m \u001b[1m13s\u001b[0m 3ms/step - accuracy: 0.9207 - loss: 51.0457\n",
      "Epoch 38/50\n",
      "\u001b[1m3722/3722\u001b[0m \u001b[32m━━━━━━━━━━━━━━━━━━━━\u001b[0m\u001b[37m\u001b[0m \u001b[1m13s\u001b[0m 3ms/step - accuracy: 0.9385 - loss: 21.1015\n",
      "Epoch 39/50\n",
      "\u001b[1m3722/3722\u001b[0m \u001b[32m━━━━━━━━━━━━━━━━━━━━\u001b[0m\u001b[37m\u001b[0m \u001b[1m13s\u001b[0m 4ms/step - accuracy: 0.9149 - loss: 1495.7498\n",
      "Epoch 40/50\n",
      "\u001b[1m3722/3722\u001b[0m \u001b[32m━━━━━━━━━━━━━━━━━━━━\u001b[0m\u001b[37m\u001b[0m \u001b[1m13s\u001b[0m 3ms/step - accuracy: 0.9379 - loss: 1.6597\n",
      "Epoch 41/50\n",
      "\u001b[1m3722/3722\u001b[0m \u001b[32m━━━━━━━━━━━━━━━━━━━━\u001b[0m\u001b[37m\u001b[0m \u001b[1m13s\u001b[0m 3ms/step - accuracy: 0.9507 - loss: 399.3780\n",
      "Epoch 42/50\n",
      "\u001b[1m3722/3722\u001b[0m \u001b[32m━━━━━━━━━━━━━━━━━━━━\u001b[0m\u001b[37m\u001b[0m \u001b[1m13s\u001b[0m 3ms/step - accuracy: 0.9306 - loss: 325.2492\n",
      "Epoch 43/50\n",
      "\u001b[1m3722/3722\u001b[0m \u001b[32m━━━━━━━━━━━━━━━━━━━━\u001b[0m\u001b[37m\u001b[0m \u001b[1m13s\u001b[0m 3ms/step - accuracy: 0.9145 - loss: 574.0593\n",
      "Epoch 44/50\n",
      "\u001b[1m3722/3722\u001b[0m \u001b[32m━━━━━━━━━━━━━━━━━━━━\u001b[0m\u001b[37m\u001b[0m \u001b[1m13s\u001b[0m 4ms/step - accuracy: 0.8940 - loss: 3887.2273\n",
      "Epoch 45/50\n",
      "\u001b[1m3722/3722\u001b[0m \u001b[32m━━━━━━━━━━━━━━━━━━━━\u001b[0m\u001b[37m\u001b[0m \u001b[1m13s\u001b[0m 3ms/step - accuracy: 0.9133 - loss: 162.2232\n",
      "Epoch 46/50\n",
      "\u001b[1m3722/3722\u001b[0m \u001b[32m━━━━━━━━━━━━━━━━━━━━\u001b[0m\u001b[37m\u001b[0m \u001b[1m13s\u001b[0m 4ms/step - accuracy: 0.9168 - loss: 70.5417\n",
      "Epoch 47/50\n",
      "\u001b[1m3722/3722\u001b[0m \u001b[32m━━━━━━━━━━━━━━━━━━━━\u001b[0m\u001b[37m\u001b[0m \u001b[1m13s\u001b[0m 3ms/step - accuracy: 0.9164 - loss: 96.3636\n",
      "Epoch 48/50\n",
      "\u001b[1m3722/3722\u001b[0m \u001b[32m━━━━━━━━━━━━━━━━━━━━\u001b[0m\u001b[37m\u001b[0m \u001b[1m13s\u001b[0m 3ms/step - accuracy: 0.9209 - loss: 3.7649\n",
      "Epoch 49/50\n",
      "\u001b[1m3722/3722\u001b[0m \u001b[32m━━━━━━━━━━━━━━━━━━━━\u001b[0m\u001b[37m\u001b[0m \u001b[1m13s\u001b[0m 3ms/step - accuracy: 0.9239 - loss: 3.0183\n",
      "Epoch 50/50\n",
      "\u001b[1m3722/3722\u001b[0m \u001b[32m━━━━━━━━━━━━━━━━━━━━\u001b[0m\u001b[37m\u001b[0m \u001b[1m13s\u001b[0m 3ms/step - accuracy: 0.9077 - loss: 353.7610\n",
      "\u001b[1m931/931\u001b[0m \u001b[32m━━━━━━━━━━━━━━━━━━━━\u001b[0m\u001b[37m\u001b[0m \u001b[1m2s\u001b[0m 2ms/step - accuracy: 0.9098 - loss: 15.3498\n",
      "LSTM Model Accuracy: 0.9073228240013123\n"
     ]
    },
    {
     "name": "stderr",
     "output_type": "stream",
     "text": [
      "2024/10/23 17:53:34 WARNING mlflow.models.model: Model logged without a signature and input example. Please set `input_example` parameter when logging the model to auto infer the model signature.\n"
     ]
    },
    {
     "name": "stdout",
     "output_type": "stream",
     "text": [
      "Epoch 1/50\n",
      "\u001b[1m3722/3722\u001b[0m \u001b[32m━━━━━━━━━━━━━━━━━━━━\u001b[0m\u001b[37m\u001b[0m \u001b[1m8s\u001b[0m 2ms/step - accuracy: 0.9548 - loss: 0.1871\n",
      "Epoch 2/50\n",
      "\u001b[1m3722/3722\u001b[0m \u001b[32m━━━━━━━━━━━━━━━━━━━━\u001b[0m\u001b[37m\u001b[0m \u001b[1m7s\u001b[0m 2ms/step - accuracy: 0.9562 - loss: 0.1813\n",
      "Epoch 3/50\n",
      "\u001b[1m3722/3722\u001b[0m \u001b[32m━━━━━━━━━━━━━━━━━━━━\u001b[0m\u001b[37m\u001b[0m \u001b[1m7s\u001b[0m 2ms/step - accuracy: 0.9568 - loss: 0.1786\n",
      "Epoch 4/50\n",
      "\u001b[1m3722/3722\u001b[0m \u001b[32m━━━━━━━━━━━━━━━━━━━━\u001b[0m\u001b[37m\u001b[0m \u001b[1m7s\u001b[0m 2ms/step - accuracy: 0.9566 - loss: 0.1786\n",
      "Epoch 5/50\n",
      "\u001b[1m3722/3722\u001b[0m \u001b[32m━━━━━━━━━━━━━━━━━━━━\u001b[0m\u001b[37m\u001b[0m \u001b[1m8s\u001b[0m 2ms/step - accuracy: 0.9570 - loss: 0.1777\n",
      "Epoch 6/50\n",
      "\u001b[1m3722/3722\u001b[0m \u001b[32m━━━━━━━━━━━━━━━━━━━━\u001b[0m\u001b[37m\u001b[0m \u001b[1m7s\u001b[0m 2ms/step - accuracy: 0.9568 - loss: 0.1777\n",
      "Epoch 7/50\n",
      "\u001b[1m3722/3722\u001b[0m \u001b[32m━━━━━━━━━━━━━━━━━━━━\u001b[0m\u001b[37m\u001b[0m \u001b[1m7s\u001b[0m 2ms/step - accuracy: 0.9565 - loss: 0.1789\n",
      "Epoch 8/50\n",
      "\u001b[1m3722/3722\u001b[0m \u001b[32m━━━━━━━━━━━━━━━━━━━━\u001b[0m\u001b[37m\u001b[0m \u001b[1m7s\u001b[0m 2ms/step - accuracy: 0.9566 - loss: 0.1784\n",
      "Epoch 9/50\n",
      "\u001b[1m3722/3722\u001b[0m \u001b[32m━━━━━━━━━━━━━━━━━━━━\u001b[0m\u001b[37m\u001b[0m \u001b[1m8s\u001b[0m 2ms/step - accuracy: 0.9558 - loss: 0.1808\n",
      "Epoch 10/50\n",
      "\u001b[1m3722/3722\u001b[0m \u001b[32m━━━━━━━━━━━━━━━━━━━━\u001b[0m\u001b[37m\u001b[0m \u001b[1m7s\u001b[0m 2ms/step - accuracy: 0.9579 - loss: 0.1740\n",
      "Epoch 11/50\n",
      "\u001b[1m3722/3722\u001b[0m \u001b[32m━━━━━━━━━━━━━━━━━━━━\u001b[0m\u001b[37m\u001b[0m \u001b[1m7s\u001b[0m 2ms/step - accuracy: 0.9565 - loss: 0.1783\n",
      "Epoch 12/50\n",
      "\u001b[1m3722/3722\u001b[0m \u001b[32m━━━━━━━━━━━━━━━━━━━━\u001b[0m\u001b[37m\u001b[0m \u001b[1m7s\u001b[0m 2ms/step - accuracy: 0.9567 - loss: 0.1777\n",
      "Epoch 13/50\n",
      "\u001b[1m3722/3722\u001b[0m \u001b[32m━━━━━━━━━━━━━━━━━━━━\u001b[0m\u001b[37m\u001b[0m \u001b[1m7s\u001b[0m 2ms/step - accuracy: 0.9569 - loss: 0.1768\n",
      "Epoch 14/50\n",
      "\u001b[1m3722/3722\u001b[0m \u001b[32m━━━━━━━━━━━━━━━━━━━━\u001b[0m\u001b[37m\u001b[0m \u001b[1m7s\u001b[0m 2ms/step - accuracy: 0.9572 - loss: 0.1764\n",
      "Epoch 15/50\n",
      "\u001b[1m3722/3722\u001b[0m \u001b[32m━━━━━━━━━━━━━━━━━━━━\u001b[0m\u001b[37m\u001b[0m \u001b[1m7s\u001b[0m 2ms/step - accuracy: 0.9566 - loss: 0.1782\n",
      "Epoch 16/50\n",
      "\u001b[1m3722/3722\u001b[0m \u001b[32m━━━━━━━━━━━━━━━━━━━━\u001b[0m\u001b[37m\u001b[0m \u001b[1m7s\u001b[0m 2ms/step - accuracy: 0.9574 - loss: 0.1755\n",
      "Epoch 17/50\n",
      "\u001b[1m3722/3722\u001b[0m \u001b[32m━━━━━━━━━━━━━━━━━━━━\u001b[0m\u001b[37m\u001b[0m \u001b[1m7s\u001b[0m 2ms/step - accuracy: 0.9562 - loss: 0.1794\n",
      "Epoch 18/50\n",
      "\u001b[1m3722/3722\u001b[0m \u001b[32m━━━━━━━━━━━━━━━━━━━━\u001b[0m\u001b[37m\u001b[0m \u001b[1m7s\u001b[0m 2ms/step - accuracy: 0.9560 - loss: 0.1801\n",
      "Epoch 19/50\n",
      "\u001b[1m3722/3722\u001b[0m \u001b[32m━━━━━━━━━━━━━━━━━━━━\u001b[0m\u001b[37m\u001b[0m \u001b[1m7s\u001b[0m 2ms/step - accuracy: 0.9563 - loss: 0.1789\n",
      "Epoch 20/50\n",
      "\u001b[1m3722/3722\u001b[0m \u001b[32m━━━━━━━━━━━━━━━━━━━━\u001b[0m\u001b[37m\u001b[0m \u001b[1m7s\u001b[0m 2ms/step - accuracy: 0.9567 - loss: 0.1775\n",
      "Epoch 21/50\n",
      "\u001b[1m3722/3722\u001b[0m \u001b[32m━━━━━━━━━━━━━━━━━━━━\u001b[0m\u001b[37m\u001b[0m \u001b[1m7s\u001b[0m 2ms/step - accuracy: 0.9575 - loss: 0.1751\n",
      "Epoch 22/50\n",
      "\u001b[1m3722/3722\u001b[0m \u001b[32m━━━━━━━━━━━━━━━━━━━━\u001b[0m\u001b[37m\u001b[0m \u001b[1m7s\u001b[0m 2ms/step - accuracy: 0.9573 - loss: 0.1755\n",
      "Epoch 23/50\n",
      "\u001b[1m3722/3722\u001b[0m \u001b[32m━━━━━━━━━━━━━━━━━━━━\u001b[0m\u001b[37m\u001b[0m \u001b[1m7s\u001b[0m 2ms/step - accuracy: 0.9566 - loss: 0.1779\n",
      "Epoch 24/50\n",
      "\u001b[1m3722/3722\u001b[0m \u001b[32m━━━━━━━━━━━━━━━━━━━━\u001b[0m\u001b[37m\u001b[0m \u001b[1m7s\u001b[0m 2ms/step - accuracy: 0.9562 - loss: 0.1792\n",
      "Epoch 25/50\n",
      "\u001b[1m3722/3722\u001b[0m \u001b[32m━━━━━━━━━━━━━━━━━━━━\u001b[0m\u001b[37m\u001b[0m \u001b[1m7s\u001b[0m 2ms/step - accuracy: 0.9568 - loss: 0.1771\n",
      "Epoch 26/50\n",
      "\u001b[1m3722/3722\u001b[0m \u001b[32m━━━━━━━━━━━━━━━━━━━━\u001b[0m\u001b[37m\u001b[0m \u001b[1m7s\u001b[0m 2ms/step - accuracy: 0.9561 - loss: 0.1793\n",
      "Epoch 27/50\n",
      "\u001b[1m3722/3722\u001b[0m \u001b[32m━━━━━━━━━━━━━━━━━━━━\u001b[0m\u001b[37m\u001b[0m \u001b[1m7s\u001b[0m 2ms/step - accuracy: 0.9561 - loss: 0.1794\n",
      "Epoch 28/50\n",
      "\u001b[1m3722/3722\u001b[0m \u001b[32m━━━━━━━━━━━━━━━━━━━━\u001b[0m\u001b[37m\u001b[0m \u001b[1m10s\u001b[0m 2ms/step - accuracy: 0.9575 - loss: 0.1751\n",
      "Epoch 29/50\n",
      "\u001b[1m3722/3722\u001b[0m \u001b[32m━━━━━━━━━━━━━━━━━━━━\u001b[0m\u001b[37m\u001b[0m \u001b[1m7s\u001b[0m 2ms/step - accuracy: 0.9571 - loss: 0.1759\n",
      "Epoch 30/50\n",
      "\u001b[1m3722/3722\u001b[0m \u001b[32m━━━━━━━━━━━━━━━━━━━━\u001b[0m\u001b[37m\u001b[0m \u001b[1m7s\u001b[0m 2ms/step - accuracy: 0.9568 - loss: 0.1771\n",
      "Epoch 31/50\n",
      "\u001b[1m3722/3722\u001b[0m \u001b[32m━━━━━━━━━━━━━━━━━━━━\u001b[0m\u001b[37m\u001b[0m \u001b[1m7s\u001b[0m 2ms/step - accuracy: 0.9563 - loss: 0.1784\n",
      "Epoch 32/50\n",
      "\u001b[1m3722/3722\u001b[0m \u001b[32m━━━━━━━━━━━━━━━━━━━━\u001b[0m\u001b[37m\u001b[0m \u001b[1m7s\u001b[0m 2ms/step - accuracy: 0.9569 - loss: 0.1767\n",
      "Epoch 33/50\n",
      "\u001b[1m3722/3722\u001b[0m \u001b[32m━━━━━━━━━━━━━━━━━━━━\u001b[0m\u001b[37m\u001b[0m \u001b[1m7s\u001b[0m 2ms/step - accuracy: 0.9562 - loss: 0.1787\n",
      "Epoch 34/50\n",
      "\u001b[1m3722/3722\u001b[0m \u001b[32m━━━━━━━━━━━━━━━━━━━━\u001b[0m\u001b[37m\u001b[0m \u001b[1m7s\u001b[0m 2ms/step - accuracy: 0.9562 - loss: 0.1788\n",
      "Epoch 35/50\n",
      "\u001b[1m3722/3722\u001b[0m \u001b[32m━━━━━━━━━━━━━━━━━━━━\u001b[0m\u001b[37m\u001b[0m \u001b[1m7s\u001b[0m 2ms/step - accuracy: 0.9572 - loss: 0.1757\n",
      "Epoch 36/50\n",
      "\u001b[1m3722/3722\u001b[0m \u001b[32m━━━━━━━━━━━━━━━━━━━━\u001b[0m\u001b[37m\u001b[0m \u001b[1m10s\u001b[0m 2ms/step - accuracy: 0.9559 - loss: 0.1796\n",
      "Epoch 37/50\n",
      "\u001b[1m3722/3722\u001b[0m \u001b[32m━━━━━━━━━━━━━━━━━━━━\u001b[0m\u001b[37m\u001b[0m \u001b[1m7s\u001b[0m 2ms/step - accuracy: 0.9572 - loss: 0.1757\n",
      "Epoch 38/50\n",
      "\u001b[1m3722/3722\u001b[0m \u001b[32m━━━━━━━━━━━━━━━━━━━━\u001b[0m\u001b[37m\u001b[0m \u001b[1m7s\u001b[0m 2ms/step - accuracy: 0.9562 - loss: 0.1783\n",
      "Epoch 39/50\n",
      "\u001b[1m3722/3722\u001b[0m \u001b[32m━━━━━━━━━━━━━━━━━━━━\u001b[0m\u001b[37m\u001b[0m \u001b[1m7s\u001b[0m 2ms/step - accuracy: 0.9575 - loss: 0.1748\n",
      "Epoch 40/50\n",
      "\u001b[1m3722/3722\u001b[0m \u001b[32m━━━━━━━━━━━━━━━━━━━━\u001b[0m\u001b[37m\u001b[0m \u001b[1m7s\u001b[0m 2ms/step - accuracy: 0.9555 - loss: 0.1808\n",
      "Epoch 41/50\n",
      "\u001b[1m3722/3722\u001b[0m \u001b[32m━━━━━━━━━━━━━━━━━━━━\u001b[0m\u001b[37m\u001b[0m \u001b[1m7s\u001b[0m 2ms/step - accuracy: 0.9566 - loss: 0.1776\n",
      "Epoch 42/50\n",
      "\u001b[1m3722/3722\u001b[0m \u001b[32m━━━━━━━━━━━━━━━━━━━━\u001b[0m\u001b[37m\u001b[0m \u001b[1m7s\u001b[0m 2ms/step - accuracy: 0.9559 - loss: 0.1794\n",
      "Epoch 43/50\n",
      "\u001b[1m3722/3722\u001b[0m \u001b[32m━━━━━━━━━━━━━━━━━━━━\u001b[0m\u001b[37m\u001b[0m \u001b[1m10s\u001b[0m 2ms/step - accuracy: 0.9554 - loss: 0.1812\n",
      "Epoch 44/50\n",
      "\u001b[1m3722/3722\u001b[0m \u001b[32m━━━━━━━━━━━━━━━━━━━━\u001b[0m\u001b[37m\u001b[0m \u001b[1m10s\u001b[0m 2ms/step - accuracy: 0.9560 - loss: 0.1791\n",
      "Epoch 45/50\n",
      "\u001b[1m3722/3722\u001b[0m \u001b[32m━━━━━━━━━━━━━━━━━━━━\u001b[0m\u001b[37m\u001b[0m \u001b[1m7s\u001b[0m 2ms/step - accuracy: 0.9564 - loss: 0.1780\n",
      "Epoch 46/50\n",
      "\u001b[1m3722/3722\u001b[0m \u001b[32m━━━━━━━━━━━━━━━━━━━━\u001b[0m\u001b[37m\u001b[0m \u001b[1m7s\u001b[0m 2ms/step - accuracy: 0.9570 - loss: 0.1760\n",
      "Epoch 47/50\n",
      "\u001b[1m3722/3722\u001b[0m \u001b[32m━━━━━━━━━━━━━━━━━━━━\u001b[0m\u001b[37m\u001b[0m \u001b[1m7s\u001b[0m 2ms/step - accuracy: 0.9554 - loss: 0.1810\n",
      "Epoch 48/50\n",
      "\u001b[1m3722/3722\u001b[0m \u001b[32m━━━━━━━━━━━━━━━━━━━━\u001b[0m\u001b[37m\u001b[0m \u001b[1m7s\u001b[0m 2ms/step - accuracy: 0.9568 - loss: 0.1768\n",
      "Epoch 49/50\n",
      "\u001b[1m3722/3722\u001b[0m \u001b[32m━━━━━━━━━━━━━━━━━━━━\u001b[0m\u001b[37m\u001b[0m \u001b[1m10s\u001b[0m 2ms/step - accuracy: 0.9573 - loss: 0.1754\n",
      "Epoch 50/50\n",
      "\u001b[1m3722/3722\u001b[0m \u001b[32m━━━━━━━━━━━━━━━━━━━━\u001b[0m\u001b[37m\u001b[0m \u001b[1m7s\u001b[0m 2ms/step - accuracy: 0.9555 - loss: 0.1808\n",
      "\u001b[1m931/931\u001b[0m \u001b[32m━━━━━━━━━━━━━━━━━━━━\u001b[0m\u001b[37m\u001b[0m \u001b[1m1s\u001b[0m 1ms/step - accuracy: 0.9586 - loss: 0.1718\n",
      "RNN Model Accuracy: 0.9568693041801453\n"
     ]
    },
    {
     "name": "stderr",
     "output_type": "stream",
     "text": [
      "2024/10/23 17:59:42 WARNING mlflow.models.model: Model logged without a signature and input example. Please set `input_example` parameter when logging the model to auto infer the model signature.\n"
     ]
    }
   ],
   "source": [
    "\n",
    "mlflow.set_experiment(\"Merged_Fraud_Detection\")\n",
    "\n",
    "models = get_models()\n",
    "\n",
    "for model_name, model in models.items():\n",
    "    accuracy, report = train_evaluate_model(model, X_train, y_train, X_test, y_test)\n",
    "    print(f\"{model_name} Accuracy: {accuracy}\")\n",
    "    print(report)\n",
    "    \n",
    " \n",
    "    log_model_with_mlflow(model, model_name, accuracy)\n",
    "\n",
    "\n",
    "X_train_cnn = X_train.values.reshape(X_train.shape[0], X_train.shape[1], 1)\n",
    "X_test_cnn = X_test.values.reshape(X_test.shape[0], X_test.shape[1], 1)\n",
    "\n",
    "\n",
    "cnn_model = build_cnn_model((X_train_cnn.shape[1], 1))\n",
    "cnn_model.fit(X_train_cnn, y_train, epochs=50, batch_size=32, verbose=1)\n",
    "cnn_accuracy = cnn_model.evaluate(X_test_cnn, y_test)[1]\n",
    "print(f\"CNN Model Accuracy: {cnn_accuracy}\")\n",
    "\n",
    "\n",
    "log_model_with_mlflow(cnn_model, \"CNN Model\", cnn_accuracy)\n",
    "\n",
    "\n",
    "lstm_model = build_lstm_model((X_train_cnn.shape[1], 1))\n",
    "lstm_model.fit(X_train_cnn, y_train, epochs=50, batch_size=32, verbose=1)\n",
    "lstm_accuracy = lstm_model.evaluate(X_test_cnn, y_test)[1]\n",
    "print(f\"LSTM Model Accuracy: {lstm_accuracy}\")\n",
    "\n",
    "\n",
    "log_model_with_mlflow(lstm_model, \"LSTM Model\", lstm_accuracy)\n",
    "\n",
    "rnn_model = build_rnn_model((X_train_cnn.shape[1], 1))\n",
    "rnn_model.fit(X_train_cnn, y_train, epochs=50, batch_size=32, verbose=1)\n",
    "rnn_accuracy = rnn_model.evaluate(X_test_cnn, y_test)[1]\n",
    "print(f\"RNN Model Accuracy: {rnn_accuracy}\")\n",
    "\n",
    "log_model_with_mlflow(rnn_model, \"RNN Model\", rnn_accuracy)\n",
    "\n"
=======
   "outputs": [],
   "source": [
    "X_fraud_train, X_fraud_test, y_fraud_train, y_fraud_test, X_credit_train, X_credit_test, y_credit_train, y_credit_test = data_preparation(fraud_df_cleaned, credit_card_df)\n"
>>>>>>> Task-1
   ]
  },
  {
   "cell_type": "code",
<<<<<<< HEAD
   "execution_count": 8,
   "metadata": {},
   "outputs": [
    {
     "data": {
      "text/plain": [
       "Index(['Time', 'V1', 'V2', 'V3', 'V4', 'V5', 'V6', 'V7', 'V8', 'V9', 'V10',\n",
       "       'V11', 'V12', 'V13', 'V14', 'V15', 'V16', 'V17', 'V18', 'V19', 'V20',\n",
       "       'V21', 'V22', 'V23', 'V24', 'V25', 'V26', 'V27', 'V28', 'Amount',\n",
       "       'Class'],\n",
       "      dtype='object')"
      ]
     },
     "execution_count": 8,
     "metadata": {},
     "output_type": "execute_result"
    }
   ],
   "source": [
    "credit_card_df.columns"
   ]
  },
  {
   "cell_type": "code",
   "execution_count": 9,
   "metadata": {},
   "outputs": [
    {
     "data": {
      "text/plain": [
       "Index(['Time', 'V1', 'V2', 'V3', 'V4', 'V5', 'V6', 'V7', 'V8', 'V9', 'V10',\n",
       "       'V11', 'V12', 'V13', 'V14', 'V15', 'V16', 'V17', 'V18', 'V19', 'V20',\n",
       "       'V21', 'V22', 'V23', 'V24', 'V25', 'V26', 'V27', 'V28', 'Amount',\n",
       "       'class'],\n",
       "      dtype='object')"
      ]
     },
     "execution_count": 9,
     "metadata": {},
     "output_type": "execute_result"
    }
   ],
   "source": [
    "credit_card_df.rename(columns={'Class': 'class'}, inplace=True)\n",
    "credit_card_df.columns"
   ]
  },
  {
   "cell_type": "code",
   "execution_count": 10,
   "metadata": {},
   "outputs": [],
   "source": [
    "X_train, X_test, y_train, y_test = prepare_data(credit_card_df ) "
   ]
  },
  {
   "cell_type": "code",
   "execution_count": 11,
   "metadata": {},
   "outputs": [
    {
     "name": "stderr",
     "output_type": "stream",
     "text": [
      "2024/10/23 17:59:43 INFO mlflow.tracking.fluent: Experiment with name 'Credit_Card_Fraud_Detection' does not exist. Creating a new experiment.\n",
      "c:\\Users\\teeyob\\EagleEye_Fraud_Detection\\.venv\\Lib\\site-packages\\sklearn\\linear_model\\_logistic.py:469: ConvergenceWarning: lbfgs failed to converge (status=1):\n",
      "STOP: TOTAL NO. of ITERATIONS REACHED LIMIT.\n",
      "\n",
      "Increase the number of iterations (max_iter) or scale the data as shown in:\n",
      "    https://scikit-learn.org/stable/modules/preprocessing.html\n",
      "Please also refer to the documentation for alternative solver options:\n",
      "    https://scikit-learn.org/stable/modules/linear_model.html#logistic-regression\n",
      "  n_iter_i = _check_optimize_result(\n"
     ]
    },
    {
     "name": "stdout",
     "output_type": "stream",
     "text": [
      "Logistic Regression Accuracy: 0.9990168884519505\n",
      "              precision    recall  f1-score   support\n",
      "\n",
      "           0       1.00      1.00      1.00     56864\n",
      "           1       0.83      0.54      0.65        98\n",
      "\n",
      "    accuracy                           1.00     56962\n",
      "   macro avg       0.91      0.77      0.83     56962\n",
      "weighted avg       1.00      1.00      1.00     56962\n",
      "\n"
     ]
    },
    {
     "name": "stderr",
     "output_type": "stream",
     "text": [
      "2024/10/23 18:00:08 WARNING mlflow.models.model: Model logged without a signature and input example. Please set `input_example` parameter when logging the model to auto infer the model signature.\n"
     ]
    },
    {
     "name": "stdout",
     "output_type": "stream",
     "text": [
      "Decision Tree Accuracy: 0.9990871107053826\n",
      "              precision    recall  f1-score   support\n",
      "\n",
      "           0       1.00      1.00      1.00     56864\n",
      "           1       0.71      0.79      0.75        98\n",
      "\n",
      "    accuracy                           1.00     56962\n",
      "   macro avg       0.86      0.89      0.87     56962\n",
      "weighted avg       1.00      1.00      1.00     56962\n",
      "\n"
     ]
    },
    {
     "name": "stderr",
     "output_type": "stream",
     "text": [
      "2024/10/23 18:00:32 WARNING mlflow.models.model: Model logged without a signature and input example. Please set `input_example` parameter when logging the model to auto infer the model signature.\n"
     ]
    },
    {
     "name": "stdout",
     "output_type": "stream",
     "text": [
      "Random Forest Accuracy: 0.9995786664794073\n",
      "              precision    recall  f1-score   support\n",
      "\n",
      "           0       1.00      1.00      1.00     56864\n",
      "           1       0.97      0.78      0.86        98\n",
      "\n",
      "    accuracy                           1.00     56962\n",
      "   macro avg       0.99      0.89      0.93     56962\n",
      "weighted avg       1.00      1.00      1.00     56962\n",
      "\n"
     ]
    },
    {
     "name": "stderr",
     "output_type": "stream",
     "text": [
      "2024/10/23 18:04:33 WARNING mlflow.models.model: Model logged without a signature and input example. Please set `input_example` parameter when logging the model to auto infer the model signature.\n"
     ]
    },
    {
     "name": "stdout",
     "output_type": "stream",
     "text": [
      "Gradient Boosting Accuracy: 0.9989466661985184\n",
      "              precision    recall  f1-score   support\n",
      "\n",
      "           0       1.00      1.00      1.00     56864\n",
      "           1       0.74      0.60      0.66        98\n",
      "\n",
      "    accuracy                           1.00     56962\n",
      "   macro avg       0.87      0.80      0.83     56962\n",
      "weighted avg       1.00      1.00      1.00     56962\n",
      "\n"
     ]
    },
    {
     "name": "stderr",
     "output_type": "stream",
     "text": [
      "2024/10/23 18:27:50 WARNING mlflow.models.model: Model logged without a signature and input example. Please set `input_example` parameter when logging the model to auto infer the model signature.\n"
     ]
    },
    {
     "name": "stdout",
     "output_type": "stream",
     "text": [
      "Multi-Layer Perceptron Accuracy: 0.9604648713177206\n",
      "              precision    recall  f1-score   support\n",
      "\n",
      "           0       1.00      0.96      0.98     56864\n",
      "           1       0.04      0.91      0.07        98\n",
      "\n",
      "    accuracy                           0.96     56962\n",
      "   macro avg       0.52      0.93      0.53     56962\n",
      "weighted avg       1.00      0.96      0.98     56962\n",
      "\n"
     ]
    },
    {
     "name": "stderr",
     "output_type": "stream",
     "text": [
      "2024/10/23 18:28:15 WARNING mlflow.models.model: Model logged without a signature and input example. Please set `input_example` parameter when logging the model to auto infer the model signature.\n"
     ]
    },
    {
     "name": "stdout",
     "output_type": "stream",
     "text": [
      "Epoch 1/50\n"
     ]
    },
    {
     "name": "stderr",
     "output_type": "stream",
     "text": [
      "c:\\Users\\teeyob\\EagleEye_Fraud_Detection\\.venv\\Lib\\site-packages\\keras\\src\\layers\\convolutional\\base_conv.py:107: UserWarning: Do not pass an `input_shape`/`input_dim` argument to a layer. When using Sequential models, prefer using an `Input(shape)` object as the first layer in the model instead.\n",
      "  super().__init__(activity_regularizer=activity_regularizer, **kwargs)\n"
     ]
    },
    {
     "name": "stdout",
     "output_type": "stream",
     "text": [
      "\u001b[1m7121/7121\u001b[0m \u001b[32m━━━━━━━━━━━━━━━━━━━━\u001b[0m\u001b[37m\u001b[0m \u001b[1m13s\u001b[0m 2ms/step - accuracy: 0.9957 - loss: 5.4295\n",
      "Epoch 2/50\n",
      "\u001b[1m7121/7121\u001b[0m \u001b[32m━━━━━━━━━━━━━━━━━━━━\u001b[0m\u001b[37m\u001b[0m \u001b[1m12s\u001b[0m 2ms/step - accuracy: 0.9989 - loss: 0.2349\n",
      "Epoch 3/50\n",
      "\u001b[1m7121/7121\u001b[0m \u001b[32m━━━━━━━━━━━━━━━━━━━━\u001b[0m\u001b[37m\u001b[0m \u001b[1m22s\u001b[0m 2ms/step - accuracy: 0.9990 - loss: 0.0211\n",
      "Epoch 4/50\n",
      "\u001b[1m7121/7121\u001b[0m \u001b[32m━━━━━━━━━━━━━━━━━━━━\u001b[0m\u001b[37m\u001b[0m \u001b[1m13s\u001b[0m 2ms/step - accuracy: 0.9989 - loss: 0.0102\n",
      "Epoch 5/50\n",
      "\u001b[1m7121/7121\u001b[0m \u001b[32m━━━━━━━━━━━━━━━━━━━━\u001b[0m\u001b[37m\u001b[0m \u001b[1m12s\u001b[0m 2ms/step - accuracy: 0.9992 - loss: 0.0087\n",
      "Epoch 6/50\n",
      "\u001b[1m7121/7121\u001b[0m \u001b[32m━━━━━━━━━━━━━━━━━━━━\u001b[0m\u001b[37m\u001b[0m \u001b[1m12s\u001b[0m 2ms/step - accuracy: 0.9994 - loss: 0.0037\n",
      "Epoch 7/50\n",
      "\u001b[1m7121/7121\u001b[0m \u001b[32m━━━━━━━━━━━━━━━━━━━━\u001b[0m\u001b[37m\u001b[0m \u001b[1m21s\u001b[0m 2ms/step - accuracy: 0.9990 - loss: 0.0131\n",
      "Epoch 8/50\n",
      "\u001b[1m7121/7121\u001b[0m \u001b[32m━━━━━━━━━━━━━━━━━━━━\u001b[0m\u001b[37m\u001b[0m \u001b[1m15s\u001b[0m 2ms/step - accuracy: 0.9993 - loss: 0.0050\n",
      "Epoch 9/50\n",
      "\u001b[1m7121/7121\u001b[0m \u001b[32m━━━━━━━━━━━━━━━━━━━━\u001b[0m\u001b[37m\u001b[0m \u001b[1m13s\u001b[0m 2ms/step - accuracy: 0.9993 - loss: 0.0079\n",
      "Epoch 10/50\n",
      "\u001b[1m7121/7121\u001b[0m \u001b[32m━━━━━━━━━━━━━━━━━━━━\u001b[0m\u001b[37m\u001b[0m \u001b[1m13s\u001b[0m 2ms/step - accuracy: 0.9994 - loss: 0.0034\n",
      "Epoch 11/50\n",
      "\u001b[1m7121/7121\u001b[0m \u001b[32m━━━━━━━━━━━━━━━━━━━━\u001b[0m\u001b[37m\u001b[0m \u001b[1m12s\u001b[0m 2ms/step - accuracy: 0.9993 - loss: 0.0037\n",
      "Epoch 12/50\n",
      "\u001b[1m7121/7121\u001b[0m \u001b[32m━━━━━━━━━━━━━━━━━━━━\u001b[0m\u001b[37m\u001b[0m \u001b[1m20s\u001b[0m 2ms/step - accuracy: 0.9992 - loss: 0.0222\n",
      "Epoch 13/50\n",
      "\u001b[1m7121/7121\u001b[0m \u001b[32m━━━━━━━━━━━━━━━━━━━━\u001b[0m\u001b[37m\u001b[0m \u001b[1m12s\u001b[0m 2ms/step - accuracy: 0.9994 - loss: 0.0027\n",
      "Epoch 14/50\n",
      "\u001b[1m7121/7121\u001b[0m \u001b[32m━━━━━━━━━━━━━━━━━━━━\u001b[0m\u001b[37m\u001b[0m \u001b[1m13s\u001b[0m 2ms/step - accuracy: 0.9993 - loss: 0.0066\n",
      "Epoch 15/50\n",
      "\u001b[1m7121/7121\u001b[0m \u001b[32m━━━━━━━━━━━━━━━━━━━━\u001b[0m\u001b[37m\u001b[0m \u001b[1m13s\u001b[0m 2ms/step - accuracy: 0.9994 - loss: 0.0033\n",
      "Epoch 16/50\n",
      "\u001b[1m7121/7121\u001b[0m \u001b[32m━━━━━━━━━━━━━━━━━━━━\u001b[0m\u001b[37m\u001b[0m \u001b[1m13s\u001b[0m 2ms/step - accuracy: 0.9994 - loss: 0.0033\n",
      "Epoch 17/50\n",
      "\u001b[1m7121/7121\u001b[0m \u001b[32m━━━━━━━━━━━━━━━━━━━━\u001b[0m\u001b[37m\u001b[0m \u001b[1m12s\u001b[0m 2ms/step - accuracy: 0.9995 - loss: 0.0025\n",
      "Epoch 18/50\n",
      "\u001b[1m7121/7121\u001b[0m \u001b[32m━━━━━━━━━━━━━━━━━━━━\u001b[0m\u001b[37m\u001b[0m \u001b[1m12s\u001b[0m 2ms/step - accuracy: 0.9993 - loss: 0.0040\n",
      "Epoch 19/50\n",
      "\u001b[1m7121/7121\u001b[0m \u001b[32m━━━━━━━━━━━━━━━━━━━━\u001b[0m\u001b[37m\u001b[0m \u001b[1m12s\u001b[0m 2ms/step - accuracy: 0.9994 - loss: 0.0046\n",
      "Epoch 20/50\n",
      "\u001b[1m7121/7121\u001b[0m \u001b[32m━━━━━━━━━━━━━━━━━━━━\u001b[0m\u001b[37m\u001b[0m \u001b[1m12s\u001b[0m 2ms/step - accuracy: 0.9994 - loss: 0.0033\n",
      "Epoch 21/50\n",
      "\u001b[1m7121/7121\u001b[0m \u001b[32m━━━━━━━━━━━━━━━━━━━━\u001b[0m\u001b[37m\u001b[0m \u001b[1m13s\u001b[0m 2ms/step - accuracy: 0.9995 - loss: 0.0031\n",
      "Epoch 22/50\n",
      "\u001b[1m7121/7121\u001b[0m \u001b[32m━━━━━━━━━━━━━━━━━━━━\u001b[0m\u001b[37m\u001b[0m \u001b[1m13s\u001b[0m 2ms/step - accuracy: 0.9995 - loss: 0.0030\n",
      "Epoch 23/50\n",
      "\u001b[1m7121/7121\u001b[0m \u001b[32m━━━━━━━━━━━━━━━━━━━━\u001b[0m\u001b[37m\u001b[0m \u001b[1m12s\u001b[0m 2ms/step - accuracy: 0.9994 - loss: 0.0042\n",
      "Epoch 24/50\n",
      "\u001b[1m7121/7121\u001b[0m \u001b[32m━━━━━━━━━━━━━━━━━━━━\u001b[0m\u001b[37m\u001b[0m \u001b[1m12s\u001b[0m 2ms/step - accuracy: 0.9994 - loss: 0.0057\n",
      "Epoch 25/50\n",
      "\u001b[1m7121/7121\u001b[0m \u001b[32m━━━━━━━━━━━━━━━━━━━━\u001b[0m\u001b[37m\u001b[0m \u001b[1m13s\u001b[0m 2ms/step - accuracy: 0.9995 - loss: 0.0044\n",
      "Epoch 26/50\n",
      "\u001b[1m7121/7121\u001b[0m \u001b[32m━━━━━━━━━━━━━━━━━━━━\u001b[0m\u001b[37m\u001b[0m \u001b[1m13s\u001b[0m 2ms/step - accuracy: 0.9994 - loss: 0.0030\n",
      "Epoch 27/50\n",
      "\u001b[1m7121/7121\u001b[0m \u001b[32m━━━━━━━━━━━━━━━━━━━━\u001b[0m\u001b[37m\u001b[0m \u001b[1m12s\u001b[0m 2ms/step - accuracy: 0.9994 - loss: 0.0047\n",
      "Epoch 28/50\n",
      "\u001b[1m7121/7121\u001b[0m \u001b[32m━━━━━━━━━━━━━━━━━━━━\u001b[0m\u001b[37m\u001b[0m \u001b[1m13s\u001b[0m 2ms/step - accuracy: 0.9994 - loss: 0.0034\n",
      "Epoch 29/50\n",
      "\u001b[1m7121/7121\u001b[0m \u001b[32m━━━━━━━━━━━━━━━━━━━━\u001b[0m\u001b[37m\u001b[0m \u001b[1m14s\u001b[0m 2ms/step - accuracy: 0.9994 - loss: 0.0037\n",
      "Epoch 30/50\n",
      "\u001b[1m7121/7121\u001b[0m \u001b[32m━━━━━━━━━━━━━━━━━━━━\u001b[0m\u001b[37m\u001b[0m \u001b[1m20s\u001b[0m 2ms/step - accuracy: 0.9995 - loss: 0.0030\n",
      "Epoch 31/50\n",
      "\u001b[1m7121/7121\u001b[0m \u001b[32m━━━━━━━━━━━━━━━━━━━━\u001b[0m\u001b[37m\u001b[0m \u001b[1m12s\u001b[0m 2ms/step - accuracy: 0.9993 - loss: 0.0044\n",
      "Epoch 32/50\n",
      "\u001b[1m7121/7121\u001b[0m \u001b[32m━━━━━━━━━━━━━━━━━━━━\u001b[0m\u001b[37m\u001b[0m \u001b[1m13s\u001b[0m 2ms/step - accuracy: 0.9994 - loss: 0.0034\n",
      "Epoch 33/50\n",
      "\u001b[1m7121/7121\u001b[0m \u001b[32m━━━━━━━━━━━━━━━━━━━━\u001b[0m\u001b[37m\u001b[0m \u001b[1m22s\u001b[0m 2ms/step - accuracy: 0.9994 - loss: 0.0029\n",
      "Epoch 34/50\n",
      "\u001b[1m7121/7121\u001b[0m \u001b[32m━━━━━━━━━━━━━━━━━━━━\u001b[0m\u001b[37m\u001b[0m \u001b[1m12s\u001b[0m 2ms/step - accuracy: 0.9995 - loss: 0.0025\n",
      "Epoch 35/50\n",
      "\u001b[1m7121/7121\u001b[0m \u001b[32m━━━━━━━━━━━━━━━━━━━━\u001b[0m\u001b[37m\u001b[0m \u001b[1m13s\u001b[0m 2ms/step - accuracy: 0.9995 - loss: 0.0022\n",
      "Epoch 36/50\n",
      "\u001b[1m7121/7121\u001b[0m \u001b[32m━━━━━━━━━━━━━━━━━━━━\u001b[0m\u001b[37m\u001b[0m \u001b[1m12s\u001b[0m 2ms/step - accuracy: 0.9994 - loss: 0.0047\n",
      "Epoch 37/50\n",
      "\u001b[1m7121/7121\u001b[0m \u001b[32m━━━━━━━━━━━━━━━━━━━━\u001b[0m\u001b[37m\u001b[0m \u001b[1m12s\u001b[0m 2ms/step - accuracy: 0.9995 - loss: 0.0031\n",
      "Epoch 38/50\n",
      "\u001b[1m7121/7121\u001b[0m \u001b[32m━━━━━━━━━━━━━━━━━━━━\u001b[0m\u001b[37m\u001b[0m \u001b[1m13s\u001b[0m 2ms/step - accuracy: 0.9994 - loss: 0.0039\n",
      "Epoch 39/50\n",
      "\u001b[1m7121/7121\u001b[0m \u001b[32m━━━━━━━━━━━━━━━━━━━━\u001b[0m\u001b[37m\u001b[0m \u001b[1m14s\u001b[0m 2ms/step - accuracy: 0.9994 - loss: 0.0071\n",
      "Epoch 40/50\n",
      "\u001b[1m7121/7121\u001b[0m \u001b[32m━━━━━━━━━━━━━━━━━━━━\u001b[0m\u001b[37m\u001b[0m \u001b[1m13s\u001b[0m 2ms/step - accuracy: 0.9994 - loss: 0.0029\n",
      "Epoch 41/50\n",
      "\u001b[1m7121/7121\u001b[0m \u001b[32m━━━━━━━━━━━━━━━━━━━━\u001b[0m\u001b[37m\u001b[0m \u001b[1m14s\u001b[0m 2ms/step - accuracy: 0.9994 - loss: 0.0037\n",
      "Epoch 42/50\n",
      "\u001b[1m7121/7121\u001b[0m \u001b[32m━━━━━━━━━━━━━━━━━━━━\u001b[0m\u001b[37m\u001b[0m \u001b[1m19s\u001b[0m 2ms/step - accuracy: 0.9993 - loss: 0.0090\n",
      "Epoch 43/50\n",
      "\u001b[1m7121/7121\u001b[0m \u001b[32m━━━━━━━━━━━━━━━━━━━━\u001b[0m\u001b[37m\u001b[0m \u001b[1m14s\u001b[0m 2ms/step - accuracy: 0.9995 - loss: 0.0031\n",
      "Epoch 44/50\n",
      "\u001b[1m7121/7121\u001b[0m \u001b[32m━━━━━━━━━━━━━━━━━━━━\u001b[0m\u001b[37m\u001b[0m \u001b[1m13s\u001b[0m 2ms/step - accuracy: 0.9995 - loss: 0.0032\n",
      "Epoch 45/50\n",
      "\u001b[1m7121/7121\u001b[0m \u001b[32m━━━━━━━━━━━━━━━━━━━━\u001b[0m\u001b[37m\u001b[0m \u001b[1m12s\u001b[0m 2ms/step - accuracy: 0.9995 - loss: 0.0037\n",
      "Epoch 46/50\n",
      "\u001b[1m7121/7121\u001b[0m \u001b[32m━━━━━━━━━━━━━━━━━━━━\u001b[0m\u001b[37m\u001b[0m \u001b[1m12s\u001b[0m 2ms/step - accuracy: 0.9995 - loss: 0.0025\n",
      "Epoch 47/50\n",
      "\u001b[1m7121/7121\u001b[0m \u001b[32m━━━━━━━━━━━━━━━━━━━━\u001b[0m\u001b[37m\u001b[0m \u001b[1m13s\u001b[0m 2ms/step - accuracy: 0.9994 - loss: 0.0025\n",
      "Epoch 48/50\n",
      "\u001b[1m7121/7121\u001b[0m \u001b[32m━━━━━━━━━━━━━━━━━━━━\u001b[0m\u001b[37m\u001b[0m \u001b[1m13s\u001b[0m 2ms/step - accuracy: 0.9993 - loss: 0.0071\n",
      "Epoch 49/50\n",
      "\u001b[1m7121/7121\u001b[0m \u001b[32m━━━━━━━━━━━━━━━━━━━━\u001b[0m\u001b[37m\u001b[0m \u001b[1m14s\u001b[0m 2ms/step - accuracy: 0.9995 - loss: 0.0029\n",
      "Epoch 50/50\n",
      "\u001b[1m7121/7121\u001b[0m \u001b[32m━━━━━━━━━━━━━━━━━━━━\u001b[0m\u001b[37m\u001b[0m \u001b[1m14s\u001b[0m 2ms/step - accuracy: 0.9994 - loss: 0.0029\n",
      "\u001b[1m1781/1781\u001b[0m \u001b[32m━━━━━━━━━━━━━━━━━━━━\u001b[0m\u001b[37m\u001b[0m \u001b[1m2s\u001b[0m 1ms/step - accuracy: 0.9994 - loss: 0.0033\n",
      "CNN Model Accuracy: 0.9993504285812378\n"
     ]
    },
    {
     "name": "stderr",
     "output_type": "stream",
     "text": [
      "2024/10/23 18:39:54 WARNING mlflow.models.model: Model logged without a signature and input example. Please set `input_example` parameter when logging the model to auto infer the model signature.\n"
     ]
    },
    {
     "name": "stdout",
     "output_type": "stream",
     "text": [
      "Epoch 1/50\n"
     ]
    },
    {
     "name": "stderr",
     "output_type": "stream",
     "text": [
      "c:\\Users\\teeyob\\EagleEye_Fraud_Detection\\.venv\\Lib\\site-packages\\keras\\src\\layers\\rnn\\rnn.py:204: UserWarning: Do not pass an `input_shape`/`input_dim` argument to a layer. When using Sequential models, prefer using an `Input(shape)` object as the first layer in the model instead.\n",
      "  super().__init__(**kwargs)\n"
     ]
    },
    {
     "name": "stdout",
     "output_type": "stream",
     "text": [
      "\u001b[1m7121/7121\u001b[0m \u001b[32m━━━━━━━━━━━━━━━━━━━━\u001b[0m\u001b[37m\u001b[0m \u001b[1m43s\u001b[0m 6ms/step - accuracy: 0.9874 - loss: 85.3809\n",
      "Epoch 2/50\n",
      "\u001b[1m7121/7121\u001b[0m \u001b[32m━━━━━━━━━━━━━━━━━━━━\u001b[0m\u001b[37m\u001b[0m \u001b[1m43s\u001b[0m 6ms/step - accuracy: 0.9958 - loss: 8.0174\n",
      "Epoch 3/50\n",
      "\u001b[1m7121/7121\u001b[0m \u001b[32m━━━━━━━━━━━━━━━━━━━━\u001b[0m\u001b[37m\u001b[0m \u001b[1m41s\u001b[0m 6ms/step - accuracy: 0.9968 - loss: 8.8970\n",
      "Epoch 4/50\n",
      "\u001b[1m7121/7121\u001b[0m \u001b[32m━━━━━━━━━━━━━━━━━━━━\u001b[0m\u001b[37m\u001b[0m \u001b[1m43s\u001b[0m 6ms/step - accuracy: 0.9956 - loss: 14.1209\n",
      "Epoch 5/50\n",
      "\u001b[1m7121/7121\u001b[0m \u001b[32m━━━━━━━━━━━━━━━━━━━━\u001b[0m\u001b[37m\u001b[0m \u001b[1m44s\u001b[0m 6ms/step - accuracy: 0.9954 - loss: 5.8453\n",
      "Epoch 6/50\n",
      "\u001b[1m7121/7121\u001b[0m \u001b[32m━━━━━━━━━━━━━━━━━━━━\u001b[0m\u001b[37m\u001b[0m \u001b[1m41s\u001b[0m 6ms/step - accuracy: 0.9954 - loss: 6.1184\n",
      "Epoch 7/50\n",
      "\u001b[1m7121/7121\u001b[0m \u001b[32m━━━━━━━━━━━━━━━━━━━━\u001b[0m\u001b[37m\u001b[0m \u001b[1m39s\u001b[0m 5ms/step - accuracy: 0.9963 - loss: 11.5654\n",
      "Epoch 8/50\n",
      "\u001b[1m7121/7121\u001b[0m \u001b[32m━━━━━━━━━━━━━━━━━━━━\u001b[0m\u001b[37m\u001b[0m \u001b[1m40s\u001b[0m 6ms/step - accuracy: 0.9974 - loss: 5.7630\n",
      "Epoch 9/50\n",
      "\u001b[1m7121/7121\u001b[0m \u001b[32m━━━━━━━━━━━━━━━━━━━━\u001b[0m\u001b[37m\u001b[0m \u001b[1m40s\u001b[0m 6ms/step - accuracy: 0.9978 - loss: 1.5860\n",
      "Epoch 10/50\n",
      "\u001b[1m7121/7121\u001b[0m \u001b[32m━━━━━━━━━━━━━━━━━━━━\u001b[0m\u001b[37m\u001b[0m \u001b[1m38s\u001b[0m 5ms/step - accuracy: 0.9969 - loss: 3.7314\n",
      "Epoch 11/50\n",
      "\u001b[1m7121/7121\u001b[0m \u001b[32m━━━━━━━━━━━━━━━━━━━━\u001b[0m\u001b[37m\u001b[0m \u001b[1m39s\u001b[0m 6ms/step - accuracy: 0.9968 - loss: 4.4256\n",
      "Epoch 12/50\n",
      "\u001b[1m7121/7121\u001b[0m \u001b[32m━━━━━━━━━━━━━━━━━━━━\u001b[0m\u001b[37m\u001b[0m \u001b[1m38s\u001b[0m 5ms/step - accuracy: 0.9963 - loss: 1183.6951\n",
      "Epoch 13/50\n",
      "\u001b[1m7121/7121\u001b[0m \u001b[32m━━━━━━━━━━━━━━━━━━━━\u001b[0m\u001b[37m\u001b[0m \u001b[1m39s\u001b[0m 5ms/step - accuracy: 0.9965 - loss: 19.5587\n",
      "Epoch 14/50\n",
      "\u001b[1m7121/7121\u001b[0m \u001b[32m━━━━━━━━━━━━━━━━━━━━\u001b[0m\u001b[37m\u001b[0m \u001b[1m39s\u001b[0m 5ms/step - accuracy: 0.9968 - loss: 5.3893\n",
      "Epoch 15/50\n",
      "\u001b[1m7121/7121\u001b[0m \u001b[32m━━━━━━━━━━━━━━━━━━━━\u001b[0m\u001b[37m\u001b[0m \u001b[1m39s\u001b[0m 5ms/step - accuracy: 0.9948 - loss: 296.3980\n",
      "Epoch 16/50\n",
      "\u001b[1m7121/7121\u001b[0m \u001b[32m━━━━━━━━━━━━━━━━━━━━\u001b[0m\u001b[37m\u001b[0m \u001b[1m39s\u001b[0m 5ms/step - accuracy: 0.9966 - loss: 101.1233\n",
      "Epoch 17/50\n",
      "\u001b[1m7121/7121\u001b[0m \u001b[32m━━━━━━━━━━━━━━━━━━━━\u001b[0m\u001b[37m\u001b[0m \u001b[1m40s\u001b[0m 6ms/step - accuracy: 0.9973 - loss: 9.8044\n",
      "Epoch 18/50\n",
      "\u001b[1m7121/7121\u001b[0m \u001b[32m━━━━━━━━━━━━━━━━━━━━\u001b[0m\u001b[37m\u001b[0m \u001b[1m39s\u001b[0m 5ms/step - accuracy: 0.9967 - loss: 2.4289\n",
      "Epoch 19/50\n",
      "\u001b[1m7121/7121\u001b[0m \u001b[32m━━━━━━━━━━━━━━━━━━━━\u001b[0m\u001b[37m\u001b[0m \u001b[1m41s\u001b[0m 6ms/step - accuracy: 0.9960 - loss: 19.4411\n",
      "Epoch 20/50\n",
      "\u001b[1m7121/7121\u001b[0m \u001b[32m━━━━━━━━━━━━━━━━━━━━\u001b[0m\u001b[37m\u001b[0m \u001b[1m39s\u001b[0m 5ms/step - accuracy: 0.9967 - loss: 2.5377\n",
      "Epoch 21/50\n",
      "\u001b[1m7121/7121\u001b[0m \u001b[32m━━━━━━━━━━━━━━━━━━━━\u001b[0m\u001b[37m\u001b[0m \u001b[1m39s\u001b[0m 6ms/step - accuracy: 0.9962 - loss: 5.4850\n",
      "Epoch 22/50\n",
      "\u001b[1m7121/7121\u001b[0m \u001b[32m━━━━━━━━━━━━━━━━━━━━\u001b[0m\u001b[37m\u001b[0m \u001b[1m39s\u001b[0m 5ms/step - accuracy: 0.9966 - loss: 4.3489\n",
      "Epoch 23/50\n",
      "\u001b[1m7121/7121\u001b[0m \u001b[32m━━━━━━━━━━━━━━━━━━━━\u001b[0m\u001b[37m\u001b[0m \u001b[1m41s\u001b[0m 6ms/step - accuracy: 0.9959 - loss: 62.4228\n",
      "Epoch 24/50\n",
      "\u001b[1m7121/7121\u001b[0m \u001b[32m━━━━━━━━━━━━━━━━━━━━\u001b[0m\u001b[37m\u001b[0m \u001b[1m38s\u001b[0m 5ms/step - accuracy: 0.9953 - loss: 67.1260\n",
      "Epoch 25/50\n",
      "\u001b[1m7121/7121\u001b[0m \u001b[32m━━━━━━━━━━━━━━━━━━━━\u001b[0m\u001b[37m\u001b[0m \u001b[1m39s\u001b[0m 6ms/step - accuracy: 0.9967 - loss: 139.1738\n",
      "Epoch 26/50\n",
      "\u001b[1m7121/7121\u001b[0m \u001b[32m━━━━━━━━━━━━━━━━━━━━\u001b[0m\u001b[37m\u001b[0m \u001b[1m38s\u001b[0m 5ms/step - accuracy: 0.9967 - loss: 9.1968\n",
      "Epoch 27/50\n",
      "\u001b[1m7121/7121\u001b[0m \u001b[32m━━━━━━━━━━━━━━━━━━━━\u001b[0m\u001b[37m\u001b[0m \u001b[1m38s\u001b[0m 5ms/step - accuracy: 0.9962 - loss: 24.0432\n",
      "Epoch 28/50\n",
      "\u001b[1m7121/7121\u001b[0m \u001b[32m━━━━━━━━━━━━━━━━━━━━\u001b[0m\u001b[37m\u001b[0m \u001b[1m42s\u001b[0m 5ms/step - accuracy: 0.9964 - loss: 18.2416\n",
      "Epoch 29/50\n",
      "\u001b[1m7121/7121\u001b[0m \u001b[32m━━━━━━━━━━━━━━━━━━━━\u001b[0m\u001b[37m\u001b[0m \u001b[1m38s\u001b[0m 5ms/step - accuracy: 0.9968 - loss: 4.2142\n",
      "Epoch 30/50\n",
      "\u001b[1m7121/7121\u001b[0m \u001b[32m━━━━━━━━━━━━━━━━━━━━\u001b[0m\u001b[37m\u001b[0m \u001b[1m38s\u001b[0m 5ms/step - accuracy: 0.9963 - loss: 3.7079\n",
      "Epoch 31/50\n",
      "\u001b[1m7121/7121\u001b[0m \u001b[32m━━━━━━━━━━━━━━━━━━━━\u001b[0m\u001b[37m\u001b[0m \u001b[1m38s\u001b[0m 5ms/step - accuracy: 0.9956 - loss: 14.3051\n",
      "Epoch 32/50\n",
      "\u001b[1m7121/7121\u001b[0m \u001b[32m━━━━━━━━━━━━━━━━━━━━\u001b[0m\u001b[37m\u001b[0m \u001b[1m39s\u001b[0m 5ms/step - accuracy: 0.9978 - loss: 16.6419\n",
      "Epoch 33/50\n",
      "\u001b[1m7121/7121\u001b[0m \u001b[32m━━━━━━━━━━━━━━━━━━━━\u001b[0m\u001b[37m\u001b[0m \u001b[1m40s\u001b[0m 6ms/step - accuracy: 0.9963 - loss: 4.5547\n",
      "Epoch 34/50\n",
      "\u001b[1m7121/7121\u001b[0m \u001b[32m━━━━━━━━━━━━━━━━━━━━\u001b[0m\u001b[37m\u001b[0m \u001b[1m39s\u001b[0m 5ms/step - accuracy: 0.9958 - loss: 29.2312\n",
      "Epoch 35/50\n",
      "\u001b[1m7121/7121\u001b[0m \u001b[32m━━━━━━━━━━━━━━━━━━━━\u001b[0m\u001b[37m\u001b[0m \u001b[1m39s\u001b[0m 5ms/step - accuracy: 0.9964 - loss: 9.1746\n",
      "Epoch 36/50\n",
      "\u001b[1m7121/7121\u001b[0m \u001b[32m━━━━━━━━━━━━━━━━━━━━\u001b[0m\u001b[37m\u001b[0m \u001b[1m39s\u001b[0m 6ms/step - accuracy: 0.9957 - loss: 212.6048\n",
      "Epoch 37/50\n",
      "\u001b[1m7121/7121\u001b[0m \u001b[32m━━━━━━━━━━━━━━━━━━━━\u001b[0m\u001b[37m\u001b[0m \u001b[1m40s\u001b[0m 6ms/step - accuracy: 0.9971 - loss: 10.7484\n",
      "Epoch 38/50\n",
      "\u001b[1m7121/7121\u001b[0m \u001b[32m━━━━━━━━━━━━━━━━━━━━\u001b[0m\u001b[37m\u001b[0m \u001b[1m39s\u001b[0m 6ms/step - accuracy: 0.9967 - loss: 21.7951\n",
      "Epoch 39/50\n",
      "\u001b[1m7121/7121\u001b[0m \u001b[32m━━━━━━━━━━━━━━━━━━━━\u001b[0m\u001b[37m\u001b[0m \u001b[1m42s\u001b[0m 6ms/step - accuracy: 0.9964 - loss: 69.6953\n",
      "Epoch 40/50\n",
      "\u001b[1m7121/7121\u001b[0m \u001b[32m━━━━━━━━━━━━━━━━━━━━\u001b[0m\u001b[37m\u001b[0m \u001b[1m39s\u001b[0m 5ms/step - accuracy: 0.9971 - loss: 6.2276\n",
      "Epoch 41/50\n",
      "\u001b[1m7121/7121\u001b[0m \u001b[32m━━━━━━━━━━━━━━━━━━━━\u001b[0m\u001b[37m\u001b[0m \u001b[1m39s\u001b[0m 5ms/step - accuracy: 0.9963 - loss: 12.6319\n",
      "Epoch 42/50\n",
      "\u001b[1m7121/7121\u001b[0m \u001b[32m━━━━━━━━━━━━━━━━━━━━\u001b[0m\u001b[37m\u001b[0m \u001b[1m40s\u001b[0m 6ms/step - accuracy: 0.9945 - loss: 44.5958\n",
      "Epoch 43/50\n",
      "\u001b[1m7121/7121\u001b[0m \u001b[32m━━━━━━━━━━━━━━━━━━━━\u001b[0m\u001b[37m\u001b[0m \u001b[1m39s\u001b[0m 5ms/step - accuracy: 0.9964 - loss: 8.5840\n",
      "Epoch 44/50\n",
      "\u001b[1m7121/7121\u001b[0m \u001b[32m━━━━━━━━━━━━━━━━━━━━\u001b[0m\u001b[37m\u001b[0m \u001b[1m42s\u001b[0m 6ms/step - accuracy: 0.9964 - loss: 11.1819\n",
      "Epoch 45/50\n",
      "\u001b[1m7121/7121\u001b[0m \u001b[32m━━━━━━━━━━━━━━━━━━━━\u001b[0m\u001b[37m\u001b[0m \u001b[1m41s\u001b[0m 5ms/step - accuracy: 0.9948 - loss: 5.1709\n",
      "Epoch 46/50\n",
      "\u001b[1m7121/7121\u001b[0m \u001b[32m━━━━━━━━━━━━━━━━━━━━\u001b[0m\u001b[37m\u001b[0m \u001b[1m39s\u001b[0m 5ms/step - accuracy: 0.9956 - loss: 14.3246\n",
      "Epoch 47/50\n",
      "\u001b[1m7121/7121\u001b[0m \u001b[32m━━━━━━━━━━━━━━━━━━━━\u001b[0m\u001b[37m\u001b[0m \u001b[1m41s\u001b[0m 6ms/step - accuracy: 0.9963 - loss: 15.9974\n",
      "Epoch 48/50\n",
      "\u001b[1m7121/7121\u001b[0m \u001b[32m━━━━━━━━━━━━━━━━━━━━\u001b[0m\u001b[37m\u001b[0m \u001b[1m39s\u001b[0m 5ms/step - accuracy: 0.9962 - loss: 11.5419\n",
      "Epoch 49/50\n",
      "\u001b[1m7121/7121\u001b[0m \u001b[32m━━━━━━━━━━━━━━━━━━━━\u001b[0m\u001b[37m\u001b[0m \u001b[1m39s\u001b[0m 5ms/step - accuracy: 0.9960 - loss: 6.8881\n",
      "Epoch 50/50\n",
      "\u001b[1m7121/7121\u001b[0m \u001b[32m━━━━━━━━━━━━━━━━━━━━\u001b[0m\u001b[37m\u001b[0m \u001b[1m39s\u001b[0m 6ms/step - accuracy: 0.9953 - loss: 6.4241\n",
      "\u001b[1m1781/1781\u001b[0m \u001b[32m━━━━━━━━━━━━━━━━━━━━\u001b[0m\u001b[37m\u001b[0m \u001b[1m4s\u001b[0m 2ms/step - accuracy: 0.9983 - loss: 1.6705\n",
      "LSTM Model Accuracy: 0.9982795715332031\n"
     ]
    },
    {
     "name": "stderr",
     "output_type": "stream",
     "text": [
      "2024/10/23 19:13:12 WARNING mlflow.models.model: Model logged without a signature and input example. Please set `input_example` parameter when logging the model to auto infer the model signature.\n"
     ]
    },
    {
     "name": "stdout",
     "output_type": "stream",
     "text": [
      "Epoch 1/50\n",
      "\u001b[1m7121/7121\u001b[0m \u001b[32m━━━━━━━━━━━━━━━━━━━━\u001b[0m\u001b[37m\u001b[0m \u001b[1m21s\u001b[0m 3ms/step - accuracy: 0.9959 - loss: 0.0188\n",
      "Epoch 2/50\n",
      "\u001b[1m7121/7121\u001b[0m \u001b[32m━━━━━━━━━━━━━━━━━━━━\u001b[0m\u001b[37m\u001b[0m \u001b[1m20s\u001b[0m 3ms/step - accuracy: 0.9984 - loss: 0.0107\n",
      "Epoch 3/50\n",
      "\u001b[1m7121/7121\u001b[0m \u001b[32m━━━━━━━━━━━━━━━━━━━━\u001b[0m\u001b[37m\u001b[0m \u001b[1m20s\u001b[0m 3ms/step - accuracy: 0.9983 - loss: 0.0098\n",
      "Epoch 4/50\n",
      "\u001b[1m7121/7121\u001b[0m \u001b[32m━━━━━━━━━━━━━━━━━━━━\u001b[0m\u001b[37m\u001b[0m \u001b[1m20s\u001b[0m 3ms/step - accuracy: 0.9985 - loss: 0.0085\n",
      "Epoch 5/50\n",
      "\u001b[1m7121/7121\u001b[0m \u001b[32m━━━━━━━━━━━━━━━━━━━━\u001b[0m\u001b[37m\u001b[0m \u001b[1m19s\u001b[0m 3ms/step - accuracy: 0.9986 - loss: 0.0061\n",
      "Epoch 6/50\n",
      "\u001b[1m7121/7121\u001b[0m \u001b[32m━━━━━━━━━━━━━━━━━━━━\u001b[0m\u001b[37m\u001b[0m \u001b[1m19s\u001b[0m 3ms/step - accuracy: 0.9991 - loss: 0.0048\n",
      "Epoch 7/50\n",
      "\u001b[1m7121/7121\u001b[0m \u001b[32m━━━━━━━━━━━━━━━━━━━━\u001b[0m\u001b[37m\u001b[0m \u001b[1m19s\u001b[0m 3ms/step - accuracy: 0.9985 - loss: 0.0083\n",
      "Epoch 8/50\n",
      "\u001b[1m7121/7121\u001b[0m \u001b[32m━━━━━━━━━━━━━━━━━━━━\u001b[0m\u001b[37m\u001b[0m \u001b[1m19s\u001b[0m 3ms/step - accuracy: 0.9991 - loss: 0.0048\n",
      "Epoch 9/50\n",
      "\u001b[1m7121/7121\u001b[0m \u001b[32m━━━━━━━━━━━━━━━━━━━━\u001b[0m\u001b[37m\u001b[0m \u001b[1m19s\u001b[0m 3ms/step - accuracy: 0.9985 - loss: 0.0082\n",
      "Epoch 10/50\n",
      "\u001b[1m7121/7121\u001b[0m \u001b[32m━━━━━━━━━━━━━━━━━━━━\u001b[0m\u001b[37m\u001b[0m \u001b[1m19s\u001b[0m 3ms/step - accuracy: 0.9984 - loss: 0.0087\n",
      "Epoch 11/50\n",
      "\u001b[1m7121/7121\u001b[0m \u001b[32m━━━━━━━━━━━━━━━━━━━━\u001b[0m\u001b[37m\u001b[0m \u001b[1m19s\u001b[0m 3ms/step - accuracy: 0.9982 - loss: 0.0102\n",
      "Epoch 12/50\n",
      "\u001b[1m7121/7121\u001b[0m \u001b[32m━━━━━━━━━━━━━━━━━━━━\u001b[0m\u001b[37m\u001b[0m \u001b[1m20s\u001b[0m 3ms/step - accuracy: 0.9984 - loss: 0.0113\n",
      "Epoch 13/50\n",
      "\u001b[1m7121/7121\u001b[0m \u001b[32m━━━━━━━━━━━━━━━━━━━━\u001b[0m\u001b[37m\u001b[0m \u001b[1m19s\u001b[0m 3ms/step - accuracy: 0.9979 - loss: 0.0087\n",
      "Epoch 14/50\n",
      "\u001b[1m7121/7121\u001b[0m \u001b[32m━━━━━━━━━━━━━━━━━━━━\u001b[0m\u001b[37m\u001b[0m \u001b[1m19s\u001b[0m 3ms/step - accuracy: 0.9984 - loss: 0.0101\n",
      "Epoch 15/50\n",
      "\u001b[1m7121/7121\u001b[0m \u001b[32m━━━━━━━━━━━━━━━━━━━━\u001b[0m\u001b[37m\u001b[0m \u001b[1m19s\u001b[0m 3ms/step - accuracy: 0.9982 - loss: 0.0096\n",
      "Epoch 16/50\n",
      "\u001b[1m7121/7121\u001b[0m \u001b[32m━━━━━━━━━━━━━━━━━━━━\u001b[0m\u001b[37m\u001b[0m \u001b[1m19s\u001b[0m 3ms/step - accuracy: 0.9983 - loss: 0.0085\n",
      "Epoch 17/50\n",
      "\u001b[1m7121/7121\u001b[0m \u001b[32m━━━━━━━━━━━━━━━━━━━━\u001b[0m\u001b[37m\u001b[0m \u001b[1m19s\u001b[0m 3ms/step - accuracy: 0.9984 - loss: 0.0100\n",
      "Epoch 18/50\n",
      "\u001b[1m7121/7121\u001b[0m \u001b[32m━━━━━━━━━━━━━━━━━━━━\u001b[0m\u001b[37m\u001b[0m \u001b[1m19s\u001b[0m 3ms/step - accuracy: 0.9981 - loss: 0.0098\n",
      "Epoch 19/50\n",
      "\u001b[1m7121/7121\u001b[0m \u001b[32m━━━━━━━━━━━━━━━━━━━━\u001b[0m\u001b[37m\u001b[0m \u001b[1m19s\u001b[0m 3ms/step - accuracy: 0.9983 - loss: 0.0105\n",
      "Epoch 20/50\n",
      "\u001b[1m7121/7121\u001b[0m \u001b[32m━━━━━━━━━━━━━━━━━━━━\u001b[0m\u001b[37m\u001b[0m \u001b[1m19s\u001b[0m 3ms/step - accuracy: 0.9982 - loss: 0.0087\n",
      "Epoch 21/50\n",
      "\u001b[1m7121/7121\u001b[0m \u001b[32m━━━━━━━━━━━━━━━━━━━━\u001b[0m\u001b[37m\u001b[0m \u001b[1m19s\u001b[0m 3ms/step - accuracy: 0.9982 - loss: 0.0123\n",
      "Epoch 22/50\n",
      "\u001b[1m7121/7121\u001b[0m \u001b[32m━━━━━━━━━━━━━━━━━━━━\u001b[0m\u001b[37m\u001b[0m \u001b[1m19s\u001b[0m 3ms/step - accuracy: 0.9983 - loss: 0.0083\n",
      "Epoch 23/50\n",
      "\u001b[1m7121/7121\u001b[0m \u001b[32m━━━━━━━━━━━━━━━━━━━━\u001b[0m\u001b[37m\u001b[0m \u001b[1m20s\u001b[0m 3ms/step - accuracy: 0.9983 - loss: 0.0080\n",
      "Epoch 24/50\n",
      "\u001b[1m7121/7121\u001b[0m \u001b[32m━━━━━━━━━━━━━━━━━━━━\u001b[0m\u001b[37m\u001b[0m \u001b[1m19s\u001b[0m 3ms/step - accuracy: 0.9984 - loss: 0.0079\n",
      "Epoch 25/50\n",
      "\u001b[1m7121/7121\u001b[0m \u001b[32m━━━━━━━━━━━━━━━━━━━━\u001b[0m\u001b[37m\u001b[0m \u001b[1m19s\u001b[0m 3ms/step - accuracy: 0.9984 - loss: 0.0085\n",
      "Epoch 26/50\n",
      "\u001b[1m7121/7121\u001b[0m \u001b[32m━━━━━━━━━━━━━━━━━━━━\u001b[0m\u001b[37m\u001b[0m \u001b[1m19s\u001b[0m 3ms/step - accuracy: 0.9982 - loss: 0.0105\n",
      "Epoch 27/50\n",
      "\u001b[1m7121/7121\u001b[0m \u001b[32m━━━━━━━━━━━━━━━━━━━━\u001b[0m\u001b[37m\u001b[0m \u001b[1m20s\u001b[0m 3ms/step - accuracy: 0.9984 - loss: 0.0093\n",
      "Epoch 28/50\n",
      "\u001b[1m7121/7121\u001b[0m \u001b[32m━━━━━━━━━━━━━━━━━━━━\u001b[0m\u001b[37m\u001b[0m \u001b[1m20s\u001b[0m 3ms/step - accuracy: 0.9985 - loss: 0.0083\n",
      "Epoch 29/50\n",
      "\u001b[1m7121/7121\u001b[0m \u001b[32m━━━━━━━━━━━━━━━━━━━━\u001b[0m\u001b[37m\u001b[0m \u001b[1m20s\u001b[0m 3ms/step - accuracy: 0.9983 - loss: 0.0084\n",
      "Epoch 30/50\n",
      "\u001b[1m7121/7121\u001b[0m \u001b[32m━━━━━━━━━━━━━━━━━━━━\u001b[0m\u001b[37m\u001b[0m \u001b[1m20s\u001b[0m 3ms/step - accuracy: 0.9985 - loss: 0.0082\n",
      "Epoch 31/50\n",
      "\u001b[1m7121/7121\u001b[0m \u001b[32m━━━━━━━━━━━━━━━━━━━━\u001b[0m\u001b[37m\u001b[0m \u001b[1m19s\u001b[0m 3ms/step - accuracy: 0.9986 - loss: 0.0082\n",
      "Epoch 32/50\n",
      "\u001b[1m7121/7121\u001b[0m \u001b[32m━━━━━━━━━━━━━━━━━━━━\u001b[0m\u001b[37m\u001b[0m \u001b[1m19s\u001b[0m 3ms/step - accuracy: 0.9983 - loss: 0.0089\n",
      "Epoch 33/50\n",
      "\u001b[1m7121/7121\u001b[0m \u001b[32m━━━━━━━━━━━━━━━━━━━━\u001b[0m\u001b[37m\u001b[0m \u001b[1m20s\u001b[0m 3ms/step - accuracy: 0.9984 - loss: 0.0080\n",
      "Epoch 34/50\n",
      "\u001b[1m7121/7121\u001b[0m \u001b[32m━━━━━━━━━━━━━━━━━━━━\u001b[0m\u001b[37m\u001b[0m \u001b[1m19s\u001b[0m 3ms/step - accuracy: 0.9984 - loss: 0.0086\n",
      "Epoch 35/50\n",
      "\u001b[1m7121/7121\u001b[0m \u001b[32m━━━━━━━━━━━━━━━━━━━━\u001b[0m\u001b[37m\u001b[0m \u001b[1m19s\u001b[0m 3ms/step - accuracy: 0.9983 - loss: 0.0082\n",
      "Epoch 36/50\n",
      "\u001b[1m7121/7121\u001b[0m \u001b[32m━━━━━━━━━━━━━━━━━━━━\u001b[0m\u001b[37m\u001b[0m \u001b[1m19s\u001b[0m 3ms/step - accuracy: 0.9986 - loss: 0.0067\n",
      "Epoch 37/50\n",
      "\u001b[1m7121/7121\u001b[0m \u001b[32m━━━━━━━━━━━━━━━━━━━━\u001b[0m\u001b[37m\u001b[0m \u001b[1m19s\u001b[0m 3ms/step - accuracy: 0.9982 - loss: 0.0093\n",
      "Epoch 38/50\n",
      "\u001b[1m7121/7121\u001b[0m \u001b[32m━━━━━━━━━━━━━━━━━━━━\u001b[0m\u001b[37m\u001b[0m \u001b[1m19s\u001b[0m 3ms/step - accuracy: 0.9984 - loss: 0.0081\n",
      "Epoch 39/50\n",
      "\u001b[1m7121/7121\u001b[0m \u001b[32m━━━━━━━━━━━━━━━━━━━━\u001b[0m\u001b[37m\u001b[0m \u001b[1m19s\u001b[0m 3ms/step - accuracy: 0.9983 - loss: 0.0089\n",
      "Epoch 40/50\n",
      "\u001b[1m7121/7121\u001b[0m \u001b[32m━━━━━━━━━━━━━━━━━━━━\u001b[0m\u001b[37m\u001b[0m \u001b[1m19s\u001b[0m 3ms/step - accuracy: 0.9984 - loss: 0.0104\n",
      "Epoch 41/50\n",
      "\u001b[1m7121/7121\u001b[0m \u001b[32m━━━━━━━━━━━━━━━━━━━━\u001b[0m\u001b[37m\u001b[0m \u001b[1m19s\u001b[0m 3ms/step - accuracy: 0.9984 - loss: 0.0094\n",
      "Epoch 42/50\n",
      "\u001b[1m7121/7121\u001b[0m \u001b[32m━━━━━━━━━━━━━━━━━━━━\u001b[0m\u001b[37m\u001b[0m \u001b[1m19s\u001b[0m 3ms/step - accuracy: 0.9985 - loss: 0.0082\n",
      "Epoch 43/50\n",
      "\u001b[1m7121/7121\u001b[0m \u001b[32m━━━━━━━━━━━━━━━━━━━━\u001b[0m\u001b[37m\u001b[0m \u001b[1m19s\u001b[0m 3ms/step - accuracy: 0.9983 - loss: 0.0082\n",
      "Epoch 44/50\n",
      "\u001b[1m7121/7121\u001b[0m \u001b[32m━━━━━━━━━━━━━━━━━━━━\u001b[0m\u001b[37m\u001b[0m \u001b[1m19s\u001b[0m 3ms/step - accuracy: 0.9985 - loss: 0.0081\n",
      "Epoch 45/50\n",
      "\u001b[1m7121/7121\u001b[0m \u001b[32m━━━━━━━━━━━━━━━━━━━━\u001b[0m\u001b[37m\u001b[0m \u001b[1m19s\u001b[0m 3ms/step - accuracy: 0.9985 - loss: 0.0084\n",
      "Epoch 46/50\n",
      "\u001b[1m7121/7121\u001b[0m \u001b[32m━━━━━━━━━━━━━━━━━━━━\u001b[0m\u001b[37m\u001b[0m \u001b[1m19s\u001b[0m 3ms/step - accuracy: 0.9984 - loss: 0.0095\n",
      "Epoch 47/50\n",
      "\u001b[1m7121/7121\u001b[0m \u001b[32m━━━━━━━━━━━━━━━━━━━━\u001b[0m\u001b[37m\u001b[0m \u001b[1m19s\u001b[0m 3ms/step - accuracy: 0.9982 - loss: 0.0106\n",
      "Epoch 48/50\n",
      "\u001b[1m7121/7121\u001b[0m \u001b[32m━━━━━━━━━━━━━━━━━━━━\u001b[0m\u001b[37m\u001b[0m \u001b[1m19s\u001b[0m 3ms/step - accuracy: 0.9983 - loss: 0.0106\n",
      "Epoch 49/50\n",
      "\u001b[1m7121/7121\u001b[0m \u001b[32m━━━━━━━━━━━━━━━━━━━━\u001b[0m\u001b[37m\u001b[0m \u001b[1m19s\u001b[0m 3ms/step - accuracy: 0.9983 - loss: 0.0102\n",
      "Epoch 50/50\n",
      "\u001b[1m7121/7121\u001b[0m \u001b[32m━━━━━━━━━━━━━━━━━━━━\u001b[0m\u001b[37m\u001b[0m \u001b[1m19s\u001b[0m 3ms/step - accuracy: 0.9985 - loss: 0.0090\n",
      "\u001b[1m1781/1781\u001b[0m \u001b[32m━━━━━━━━━━━━━━━━━━━━\u001b[0m\u001b[37m\u001b[0m \u001b[1m3s\u001b[0m 1ms/step - accuracy: 0.9985 - loss: 0.0092\n",
      "RNN Model Accuracy: 0.9984902143478394\n"
     ]
    },
    {
     "name": "stderr",
     "output_type": "stream",
     "text": [
      "2024/10/23 19:29:25 WARNING mlflow.models.model: Model logged without a signature and input example. Please set `input_example` parameter when logging the model to auto infer the model signature.\n"
     ]
    }
   ],
   "source": [
    "\n",
    "mlflow.set_experiment(\"Credit_Card_Fraud_Detection\")\n",
    "\n",
    "models = get_models()\n",
    "\n",
    "for model_name, model in models.items():\n",
    "    accuracy, report = train_evaluate_model(model, X_train, y_train, X_test, y_test)\n",
    "    print(f\"{model_name} Accuracy: {accuracy}\")\n",
    "    print(report)\n",
    "    \n",
    " \n",
    "    log_model_with_mlflow(model, model_name, accuracy)\n",
    "\n",
    "\n",
    "X_train_cnn = X_train.values.reshape(X_train.shape[0], X_train.shape[1], 1)\n",
    "X_test_cnn = X_test.values.reshape(X_test.shape[0], X_test.shape[1], 1)\n",
    "\n",
    "\n",
    "cnn_model = build_cnn_model((X_train_cnn.shape[1], 1))\n",
    "cnn_model.fit(X_train_cnn, y_train, epochs=50, batch_size=32, verbose=1)\n",
    "cnn_accuracy = cnn_model.evaluate(X_test_cnn, y_test)[1]\n",
    "print(f\"CNN Model Accuracy: {cnn_accuracy}\")\n",
    "\n",
    "\n",
    "log_model_with_mlflow(cnn_model, \"CNN Model\", cnn_accuracy)\n",
    "\n",
    "\n",
    "lstm_model = build_lstm_model((X_train_cnn.shape[1], 1))\n",
    "lstm_model.fit(X_train_cnn, y_train, epochs=50, batch_size=32, verbose=1)\n",
    "lstm_accuracy = lstm_model.evaluate(X_test_cnn, y_test)[1]\n",
    "print(f\"LSTM Model Accuracy: {lstm_accuracy}\")\n",
    "\n",
    "\n",
    "log_model_with_mlflow(lstm_model, \"LSTM Model\", lstm_accuracy)\n",
    "\n",
    "rnn_model = build_rnn_model((X_train_cnn.shape[1], 1))\n",
    "rnn_model.fit(X_train_cnn, y_train, epochs=50, batch_size=32, verbose=1)\n",
    "rnn_accuracy = rnn_model.evaluate(X_test_cnn, y_test)[1]\n",
    "print(f\"RNN Model Accuracy: {rnn_accuracy}\")\n",
    "\n",
    "log_model_with_mlflow(rnn_model, \"RNN Model\", rnn_accuracy)\n",
    "\n"
=======
   "execution_count": null,
   "metadata": {},
   "outputs": [],
   "source": [
    "models = train_classical_models(X_fraud_train, y_fraud_train, X_fraud_test, y_fraud_test)"
>>>>>>> Task-1
   ]
  }
 ],
 "metadata": {
  "kernelspec": {
   "display_name": ".venv",
   "language": "python",
   "name": "python3"
  },
  "language_info": {
   "codemirror_mode": {
    "name": "ipython",
    "version": 3
   },
   "file_extension": ".py",
   "mimetype": "text/x-python",
   "name": "python",
   "nbconvert_exporter": "python",
   "pygments_lexer": "ipython3",
   "version": "3.12.5"
  }
 },
 "nbformat": 4,
 "nbformat_minor": 2
}
